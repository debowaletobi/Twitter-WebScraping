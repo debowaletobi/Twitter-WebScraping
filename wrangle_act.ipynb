{
 "cells": [
  {
   "cell_type": "markdown",
   "id": "aa32a927",
   "metadata": {},
   "source": [
    "###### Import relevant libraries"
   ]
  },
  {
   "cell_type": "code",
   "execution_count": 1,
   "id": "93b34e24",
   "metadata": {},
   "outputs": [],
   "source": [
    "import numpy as np\n",
    "import pandas as pd\n",
    "import matplotlib.pyplot as plt\n",
    "import seaborn as sns\n",
    "sns.set()"
   ]
  },
  {
   "cell_type": "markdown",
   "id": "12e89a4d",
   "metadata": {},
   "source": [
    "##### Read the 3 datasets into different data frames"
   ]
  },
  {
   "cell_type": "markdown",
   "id": "697d2196",
   "metadata": {},
   "source": [
    "#### Dataset 1: Manual download"
   ]
  },
  {
   "cell_type": "code",
   "execution_count": 2,
   "id": "9c3ea361",
   "metadata": {
    "scrolled": true
   },
   "outputs": [
    {
     "data": {
      "text/html": [
       "<div>\n",
       "<style scoped>\n",
       "    .dataframe tbody tr th:only-of-type {\n",
       "        vertical-align: middle;\n",
       "    }\n",
       "\n",
       "    .dataframe tbody tr th {\n",
       "        vertical-align: top;\n",
       "    }\n",
       "\n",
       "    .dataframe thead th {\n",
       "        text-align: right;\n",
       "    }\n",
       "</style>\n",
       "<table border=\"1\" class=\"dataframe\">\n",
       "  <thead>\n",
       "    <tr style=\"text-align: right;\">\n",
       "      <th></th>\n",
       "      <th>tweet_id</th>\n",
       "      <th>in_reply_to_status_id</th>\n",
       "      <th>in_reply_to_user_id</th>\n",
       "      <th>timestamp</th>\n",
       "      <th>source</th>\n",
       "      <th>text</th>\n",
       "      <th>retweeted_status_id</th>\n",
       "      <th>retweeted_status_user_id</th>\n",
       "      <th>retweeted_status_timestamp</th>\n",
       "      <th>expanded_urls</th>\n",
       "      <th>rating_numerator</th>\n",
       "      <th>rating_denominator</th>\n",
       "      <th>name</th>\n",
       "      <th>doggo</th>\n",
       "      <th>floofer</th>\n",
       "      <th>pupper</th>\n",
       "      <th>puppo</th>\n",
       "    </tr>\n",
       "  </thead>\n",
       "  <tbody>\n",
       "    <tr>\n",
       "      <th>0</th>\n",
       "      <td>892420643555336193</td>\n",
       "      <td>NaN</td>\n",
       "      <td>NaN</td>\n",
       "      <td>2017-08-01 16:23:56 +0000</td>\n",
       "      <td>&lt;a href=\"http://twitter.com/download/iphone\" r...</td>\n",
       "      <td>This is Phineas. He's a mystical boy. Only eve...</td>\n",
       "      <td>NaN</td>\n",
       "      <td>NaN</td>\n",
       "      <td>NaN</td>\n",
       "      <td>https://twitter.com/dog_rates/status/892420643...</td>\n",
       "      <td>13</td>\n",
       "      <td>10</td>\n",
       "      <td>Phineas</td>\n",
       "      <td>None</td>\n",
       "      <td>None</td>\n",
       "      <td>None</td>\n",
       "      <td>None</td>\n",
       "    </tr>\n",
       "    <tr>\n",
       "      <th>1</th>\n",
       "      <td>892177421306343426</td>\n",
       "      <td>NaN</td>\n",
       "      <td>NaN</td>\n",
       "      <td>2017-08-01 00:17:27 +0000</td>\n",
       "      <td>&lt;a href=\"http://twitter.com/download/iphone\" r...</td>\n",
       "      <td>This is Tilly. She's just checking pup on you....</td>\n",
       "      <td>NaN</td>\n",
       "      <td>NaN</td>\n",
       "      <td>NaN</td>\n",
       "      <td>https://twitter.com/dog_rates/status/892177421...</td>\n",
       "      <td>13</td>\n",
       "      <td>10</td>\n",
       "      <td>Tilly</td>\n",
       "      <td>None</td>\n",
       "      <td>None</td>\n",
       "      <td>None</td>\n",
       "      <td>None</td>\n",
       "    </tr>\n",
       "    <tr>\n",
       "      <th>2</th>\n",
       "      <td>891815181378084864</td>\n",
       "      <td>NaN</td>\n",
       "      <td>NaN</td>\n",
       "      <td>2017-07-31 00:18:03 +0000</td>\n",
       "      <td>&lt;a href=\"http://twitter.com/download/iphone\" r...</td>\n",
       "      <td>This is Archie. He is a rare Norwegian Pouncin...</td>\n",
       "      <td>NaN</td>\n",
       "      <td>NaN</td>\n",
       "      <td>NaN</td>\n",
       "      <td>https://twitter.com/dog_rates/status/891815181...</td>\n",
       "      <td>12</td>\n",
       "      <td>10</td>\n",
       "      <td>Archie</td>\n",
       "      <td>None</td>\n",
       "      <td>None</td>\n",
       "      <td>None</td>\n",
       "      <td>None</td>\n",
       "    </tr>\n",
       "    <tr>\n",
       "      <th>3</th>\n",
       "      <td>891689557279858688</td>\n",
       "      <td>NaN</td>\n",
       "      <td>NaN</td>\n",
       "      <td>2017-07-30 15:58:51 +0000</td>\n",
       "      <td>&lt;a href=\"http://twitter.com/download/iphone\" r...</td>\n",
       "      <td>This is Darla. She commenced a snooze mid meal...</td>\n",
       "      <td>NaN</td>\n",
       "      <td>NaN</td>\n",
       "      <td>NaN</td>\n",
       "      <td>https://twitter.com/dog_rates/status/891689557...</td>\n",
       "      <td>13</td>\n",
       "      <td>10</td>\n",
       "      <td>Darla</td>\n",
       "      <td>None</td>\n",
       "      <td>None</td>\n",
       "      <td>None</td>\n",
       "      <td>None</td>\n",
       "    </tr>\n",
       "    <tr>\n",
       "      <th>4</th>\n",
       "      <td>891327558926688256</td>\n",
       "      <td>NaN</td>\n",
       "      <td>NaN</td>\n",
       "      <td>2017-07-29 16:00:24 +0000</td>\n",
       "      <td>&lt;a href=\"http://twitter.com/download/iphone\" r...</td>\n",
       "      <td>This is Franklin. He would like you to stop ca...</td>\n",
       "      <td>NaN</td>\n",
       "      <td>NaN</td>\n",
       "      <td>NaN</td>\n",
       "      <td>https://twitter.com/dog_rates/status/891327558...</td>\n",
       "      <td>12</td>\n",
       "      <td>10</td>\n",
       "      <td>Franklin</td>\n",
       "      <td>None</td>\n",
       "      <td>None</td>\n",
       "      <td>None</td>\n",
       "      <td>None</td>\n",
       "    </tr>\n",
       "  </tbody>\n",
       "</table>\n",
       "</div>"
      ],
      "text/plain": [
       "             tweet_id  in_reply_to_status_id  in_reply_to_user_id  \\\n",
       "0  892420643555336193                    NaN                  NaN   \n",
       "1  892177421306343426                    NaN                  NaN   \n",
       "2  891815181378084864                    NaN                  NaN   \n",
       "3  891689557279858688                    NaN                  NaN   \n",
       "4  891327558926688256                    NaN                  NaN   \n",
       "\n",
       "                   timestamp  \\\n",
       "0  2017-08-01 16:23:56 +0000   \n",
       "1  2017-08-01 00:17:27 +0000   \n",
       "2  2017-07-31 00:18:03 +0000   \n",
       "3  2017-07-30 15:58:51 +0000   \n",
       "4  2017-07-29 16:00:24 +0000   \n",
       "\n",
       "                                              source  \\\n",
       "0  <a href=\"http://twitter.com/download/iphone\" r...   \n",
       "1  <a href=\"http://twitter.com/download/iphone\" r...   \n",
       "2  <a href=\"http://twitter.com/download/iphone\" r...   \n",
       "3  <a href=\"http://twitter.com/download/iphone\" r...   \n",
       "4  <a href=\"http://twitter.com/download/iphone\" r...   \n",
       "\n",
       "                                                text  retweeted_status_id  \\\n",
       "0  This is Phineas. He's a mystical boy. Only eve...                  NaN   \n",
       "1  This is Tilly. She's just checking pup on you....                  NaN   \n",
       "2  This is Archie. He is a rare Norwegian Pouncin...                  NaN   \n",
       "3  This is Darla. She commenced a snooze mid meal...                  NaN   \n",
       "4  This is Franklin. He would like you to stop ca...                  NaN   \n",
       "\n",
       "   retweeted_status_user_id retweeted_status_timestamp  \\\n",
       "0                       NaN                        NaN   \n",
       "1                       NaN                        NaN   \n",
       "2                       NaN                        NaN   \n",
       "3                       NaN                        NaN   \n",
       "4                       NaN                        NaN   \n",
       "\n",
       "                                       expanded_urls  rating_numerator  \\\n",
       "0  https://twitter.com/dog_rates/status/892420643...                13   \n",
       "1  https://twitter.com/dog_rates/status/892177421...                13   \n",
       "2  https://twitter.com/dog_rates/status/891815181...                12   \n",
       "3  https://twitter.com/dog_rates/status/891689557...                13   \n",
       "4  https://twitter.com/dog_rates/status/891327558...                12   \n",
       "\n",
       "   rating_denominator      name doggo floofer pupper puppo  \n",
       "0                  10   Phineas  None    None   None  None  \n",
       "1                  10     Tilly  None    None   None  None  \n",
       "2                  10    Archie  None    None   None  None  \n",
       "3                  10     Darla  None    None   None  None  \n",
       "4                  10  Franklin  None    None   None  None  "
      ]
     },
     "execution_count": 2,
     "metadata": {},
     "output_type": "execute_result"
    }
   ],
   "source": [
    "tweets_df = pd.read_csv('twitter-archive-enhanced.csv')\n",
    "tweets_df.head()"
   ]
  },
  {
   "cell_type": "markdown",
   "id": "6c2c94a6",
   "metadata": {},
   "source": [
    "#### Dataset 2: Programatic download"
   ]
  },
  {
   "cell_type": "markdown",
   "id": "3e865001",
   "metadata": {},
   "source": [
    "Import the libraries needed for programatic download"
   ]
  },
  {
   "cell_type": "code",
   "execution_count": 3,
   "id": "37b5f36c",
   "metadata": {},
   "outputs": [],
   "source": [
    "import requests\n",
    "import os"
   ]
  },
  {
   "cell_type": "code",
   "execution_count": 4,
   "id": "6175beab",
   "metadata": {},
   "outputs": [],
   "source": [
    "folder_name = 'image_predictions'\n",
    "if not os.path.exists(folder_name):\n",
    "    os.makedirs(folder_name)"
   ]
  },
  {
   "cell_type": "code",
   "execution_count": 5,
   "id": "4d286ab1",
   "metadata": {
    "scrolled": true
   },
   "outputs": [
    {
     "data": {
      "text/plain": [
       "<Response [200]>"
      ]
     },
     "execution_count": 5,
     "metadata": {},
     "output_type": "execute_result"
    }
   ],
   "source": [
    "url = 'https://d17h27t6h515a5.cloudfront.net/topher/2017/August/599fd2ad_image-predictions/image-predictions.tsv'\n",
    "response = requests.get(url)\n",
    "response"
   ]
  },
  {
   "cell_type": "markdown",
   "id": "b6353a37",
   "metadata": {},
   "source": [
    "The \"<Response [200]>\" shows that the request suceeded."
   ]
  },
  {
   "cell_type": "code",
   "execution_count": 6,
   "id": "ff938d9b",
   "metadata": {
    "scrolled": true
   },
   "outputs": [
    {
     "data": {
      "text/html": [
       "<div>\n",
       "<style scoped>\n",
       "    .dataframe tbody tr th:only-of-type {\n",
       "        vertical-align: middle;\n",
       "    }\n",
       "\n",
       "    .dataframe tbody tr th {\n",
       "        vertical-align: top;\n",
       "    }\n",
       "\n",
       "    .dataframe thead th {\n",
       "        text-align: right;\n",
       "    }\n",
       "</style>\n",
       "<table border=\"1\" class=\"dataframe\">\n",
       "  <thead>\n",
       "    <tr style=\"text-align: right;\">\n",
       "      <th></th>\n",
       "      <th>tweet_id</th>\n",
       "      <th>jpg_url</th>\n",
       "      <th>img_num</th>\n",
       "      <th>p1</th>\n",
       "      <th>p1_conf</th>\n",
       "      <th>p1_dog</th>\n",
       "      <th>p2</th>\n",
       "      <th>p2_conf</th>\n",
       "      <th>p2_dog</th>\n",
       "      <th>p3</th>\n",
       "      <th>p3_conf</th>\n",
       "      <th>p3_dog</th>\n",
       "    </tr>\n",
       "  </thead>\n",
       "  <tbody>\n",
       "    <tr>\n",
       "      <th>0</th>\n",
       "      <td>666020888022790149</td>\n",
       "      <td>https://pbs.twimg.com/media/CT4udn0WwAA0aMy.jpg</td>\n",
       "      <td>1</td>\n",
       "      <td>Welsh_springer_spaniel</td>\n",
       "      <td>0.465074</td>\n",
       "      <td>True</td>\n",
       "      <td>collie</td>\n",
       "      <td>0.156665</td>\n",
       "      <td>True</td>\n",
       "      <td>Shetland_sheepdog</td>\n",
       "      <td>0.061428</td>\n",
       "      <td>True</td>\n",
       "    </tr>\n",
       "    <tr>\n",
       "      <th>1</th>\n",
       "      <td>666029285002620928</td>\n",
       "      <td>https://pbs.twimg.com/media/CT42GRgUYAA5iDo.jpg</td>\n",
       "      <td>1</td>\n",
       "      <td>redbone</td>\n",
       "      <td>0.506826</td>\n",
       "      <td>True</td>\n",
       "      <td>miniature_pinscher</td>\n",
       "      <td>0.074192</td>\n",
       "      <td>True</td>\n",
       "      <td>Rhodesian_ridgeback</td>\n",
       "      <td>0.072010</td>\n",
       "      <td>True</td>\n",
       "    </tr>\n",
       "    <tr>\n",
       "      <th>2</th>\n",
       "      <td>666033412701032449</td>\n",
       "      <td>https://pbs.twimg.com/media/CT4521TWwAEvMyu.jpg</td>\n",
       "      <td>1</td>\n",
       "      <td>German_shepherd</td>\n",
       "      <td>0.596461</td>\n",
       "      <td>True</td>\n",
       "      <td>malinois</td>\n",
       "      <td>0.138584</td>\n",
       "      <td>True</td>\n",
       "      <td>bloodhound</td>\n",
       "      <td>0.116197</td>\n",
       "      <td>True</td>\n",
       "    </tr>\n",
       "    <tr>\n",
       "      <th>3</th>\n",
       "      <td>666044226329800704</td>\n",
       "      <td>https://pbs.twimg.com/media/CT5Dr8HUEAA-lEu.jpg</td>\n",
       "      <td>1</td>\n",
       "      <td>Rhodesian_ridgeback</td>\n",
       "      <td>0.408143</td>\n",
       "      <td>True</td>\n",
       "      <td>redbone</td>\n",
       "      <td>0.360687</td>\n",
       "      <td>True</td>\n",
       "      <td>miniature_pinscher</td>\n",
       "      <td>0.222752</td>\n",
       "      <td>True</td>\n",
       "    </tr>\n",
       "    <tr>\n",
       "      <th>4</th>\n",
       "      <td>666049248165822465</td>\n",
       "      <td>https://pbs.twimg.com/media/CT5IQmsXIAAKY4A.jpg</td>\n",
       "      <td>1</td>\n",
       "      <td>miniature_pinscher</td>\n",
       "      <td>0.560311</td>\n",
       "      <td>True</td>\n",
       "      <td>Rottweiler</td>\n",
       "      <td>0.243682</td>\n",
       "      <td>True</td>\n",
       "      <td>Doberman</td>\n",
       "      <td>0.154629</td>\n",
       "      <td>True</td>\n",
       "    </tr>\n",
       "  </tbody>\n",
       "</table>\n",
       "</div>"
      ],
      "text/plain": [
       "             tweet_id                                          jpg_url  \\\n",
       "0  666020888022790149  https://pbs.twimg.com/media/CT4udn0WwAA0aMy.jpg   \n",
       "1  666029285002620928  https://pbs.twimg.com/media/CT42GRgUYAA5iDo.jpg   \n",
       "2  666033412701032449  https://pbs.twimg.com/media/CT4521TWwAEvMyu.jpg   \n",
       "3  666044226329800704  https://pbs.twimg.com/media/CT5Dr8HUEAA-lEu.jpg   \n",
       "4  666049248165822465  https://pbs.twimg.com/media/CT5IQmsXIAAKY4A.jpg   \n",
       "\n",
       "   img_num                      p1   p1_conf  p1_dog                  p2  \\\n",
       "0        1  Welsh_springer_spaniel  0.465074    True              collie   \n",
       "1        1                 redbone  0.506826    True  miniature_pinscher   \n",
       "2        1         German_shepherd  0.596461    True            malinois   \n",
       "3        1     Rhodesian_ridgeback  0.408143    True             redbone   \n",
       "4        1      miniature_pinscher  0.560311    True          Rottweiler   \n",
       "\n",
       "    p2_conf  p2_dog                   p3   p3_conf  p3_dog  \n",
       "0  0.156665    True    Shetland_sheepdog  0.061428    True  \n",
       "1  0.074192    True  Rhodesian_ridgeback  0.072010    True  \n",
       "2  0.138584    True           bloodhound  0.116197    True  \n",
       "3  0.360687    True   miniature_pinscher  0.222752    True  \n",
       "4  0.243682    True             Doberman  0.154629    True  "
      ]
     },
     "execution_count": 6,
     "metadata": {},
     "output_type": "execute_result"
    }
   ],
   "source": [
    "with open(os.path.join(folder_name, url.split('/')[-1]), mode = 'wb') as file:\n",
    "        file.write(response.content)\n",
    "images_df = pd.read_csv('/Users/orukotanoluwatobiloba/image_predictions/image-predictions.tsv', sep='\\t')\n",
    "images_df.head()"
   ]
  },
  {
   "cell_type": "markdown",
   "id": "53aa935c",
   "metadata": {},
   "source": [
    "##### Dataset 3: Scrapped data"
   ]
  },
  {
   "cell_type": "code",
   "execution_count": 7,
   "id": "212b2aa6",
   "metadata": {},
   "outputs": [],
   "source": [
    "import tweepy\n",
    "\n",
    "consumer_key = ''\n",
    "consumer_secret = ''\n",
    "access_token = ''\n",
    "access_secret = ''\n",
    "\n",
    "auth = tweepy.OAuthHandler(consumer_key, consumer_secret)\n",
    "auth.set_access_token(access_token, access_secret)\n",
    "\n",
    "api = tweepy.API(auth,wait_on_rate_limit=True)"
   ]
  },
  {
   "cell_type": "code",
   "execution_count": 8,
   "id": "c2285b9d",
   "metadata": {},
   "outputs": [
    {
     "name": "stderr",
     "output_type": "stream",
     "text": [
      "Rate limit reached. Sleeping for: 38\n"
     ]
    }
   ],
   "source": [
    "file_path = '/Users/orukotanoluwatobiloba/Downloads/Udacity/tweet_json.txt'\n",
    "deleted_tweet_ids = []\n",
    "\n",
    "\n",
    "with open(file_path, 'w') as file:\n",
    "    file.write('tweet_id, favorite_count, retweet_count')\n",
    "    file.write('\\n')\n",
    "    \n",
    "    for tweet_id in tweets_df.tweet_id.values:\n",
    "        try:\n",
    "            tweet = api.get_status(tweet_id,tweet_mode='extended')\n",
    "            file.write('{0},{1},{2}'.format(tweet_id,tweet.favorite_count,tweet.retweet_count))\n",
    "            file.write('\\n')\n",
    "        except:\n",
    "            deleted_tweet_ids.append(tweet_id)"
   ]
  },
  {
   "cell_type": "code",
   "execution_count": 9,
   "id": "aa50de67",
   "metadata": {},
   "outputs": [
    {
     "data": {
      "text/plain": [
       "[888202515573088257,\n",
       " 873697596434513921,\n",
       " 872668790621863937,\n",
       " 872261713294495745,\n",
       " 869988702071779329,\n",
       " 866816280283807744,\n",
       " 861769973181624320,\n",
       " 856602993587888130,\n",
       " 856330835276025856,\n",
       " 855862651834028034,\n",
       " 851953902622658560,\n",
       " 851861385021730816,\n",
       " 845459076796616705,\n",
       " 844704788403113984,\n",
       " 842892208864923648,\n",
       " 837366284874571778,\n",
       " 837012587749474308,\n",
       " 829374341691346946,\n",
       " 827228250799742977,\n",
       " 812747805718642688,\n",
       " 802247111496568832,\n",
       " 779123168116150273,\n",
       " 775096608509886464,\n",
       " 771004394259247104,\n",
       " 770743923962707968,\n",
       " 766864461642756096,\n",
       " 759923798737051648,\n",
       " 759566828574212096,\n",
       " 754011816964026368,\n",
       " 680055455951884288,\n",
       " 670780561024270336]"
      ]
     },
     "execution_count": 9,
     "metadata": {},
     "output_type": "execute_result"
    }
   ],
   "source": [
    "deleted_tweet_ids"
   ]
  },
  {
   "cell_type": "code",
   "execution_count": 10,
   "id": "6c6fdcca",
   "metadata": {},
   "outputs": [
    {
     "data": {
      "text/plain": [
       "31"
      ]
     },
     "execution_count": 10,
     "metadata": {},
     "output_type": "execute_result"
    }
   ],
   "source": [
    "len(deleted_tweet_ids)"
   ]
  },
  {
   "cell_type": "markdown",
   "id": "61c8288b",
   "metadata": {},
   "source": [
    "29 tweets in the twitter-archive-enhanced.csv file have been deleted"
   ]
  },
  {
   "cell_type": "code",
   "execution_count": 11,
   "id": "eaf5e923",
   "metadata": {},
   "outputs": [],
   "source": [
    "tweets_data = pd.read_csv(file_path,sep=',')"
   ]
  },
  {
   "cell_type": "code",
   "execution_count": 12,
   "id": "1a175fe4",
   "metadata": {},
   "outputs": [
    {
     "data": {
      "text/html": [
       "<div>\n",
       "<style scoped>\n",
       "    .dataframe tbody tr th:only-of-type {\n",
       "        vertical-align: middle;\n",
       "    }\n",
       "\n",
       "    .dataframe tbody tr th {\n",
       "        vertical-align: top;\n",
       "    }\n",
       "\n",
       "    .dataframe thead th {\n",
       "        text-align: right;\n",
       "    }\n",
       "</style>\n",
       "<table border=\"1\" class=\"dataframe\">\n",
       "  <thead>\n",
       "    <tr style=\"text-align: right;\">\n",
       "      <th></th>\n",
       "      <th>tweet_id</th>\n",
       "      <th>favorite_count</th>\n",
       "      <th>retweet_count</th>\n",
       "    </tr>\n",
       "  </thead>\n",
       "  <tbody>\n",
       "    <tr>\n",
       "      <th>0</th>\n",
       "      <td>892420643555336193</td>\n",
       "      <td>33813</td>\n",
       "      <td>7006</td>\n",
       "    </tr>\n",
       "    <tr>\n",
       "      <th>1</th>\n",
       "      <td>892177421306343426</td>\n",
       "      <td>29329</td>\n",
       "      <td>5301</td>\n",
       "    </tr>\n",
       "    <tr>\n",
       "      <th>2</th>\n",
       "      <td>891815181378084864</td>\n",
       "      <td>22048</td>\n",
       "      <td>3480</td>\n",
       "    </tr>\n",
       "    <tr>\n",
       "      <th>3</th>\n",
       "      <td>891689557279858688</td>\n",
       "      <td>36937</td>\n",
       "      <td>7226</td>\n",
       "    </tr>\n",
       "    <tr>\n",
       "      <th>4</th>\n",
       "      <td>891327558926688256</td>\n",
       "      <td>35313</td>\n",
       "      <td>7758</td>\n",
       "    </tr>\n",
       "  </tbody>\n",
       "</table>\n",
       "</div>"
      ],
      "text/plain": [
       "             tweet_id   favorite_count   retweet_count\n",
       "0  892420643555336193            33813            7006\n",
       "1  892177421306343426            29329            5301\n",
       "2  891815181378084864            22048            3480\n",
       "3  891689557279858688            36937            7226\n",
       "4  891327558926688256            35313            7758"
      ]
     },
     "execution_count": 12,
     "metadata": {},
     "output_type": "execute_result"
    }
   ],
   "source": [
    "tweets_data.head()"
   ]
  },
  {
   "cell_type": "markdown",
   "id": "54e35572",
   "metadata": {},
   "source": [
    "### Data Accessing"
   ]
  },
  {
   "cell_type": "markdown",
   "id": "de70efe8",
   "metadata": {},
   "source": [
    "##### Accessing the tweets_df (twitter-archive-enhanced.csv) dataset"
   ]
  },
  {
   "cell_type": "code",
   "execution_count": 13,
   "id": "42267698",
   "metadata": {},
   "outputs": [
    {
     "data": {
      "text/plain": [
       "(2356, 17)"
      ]
     },
     "execution_count": 13,
     "metadata": {},
     "output_type": "execute_result"
    }
   ],
   "source": [
    "tweets_df.shape"
   ]
  },
  {
   "cell_type": "code",
   "execution_count": 14,
   "id": "a00ba968",
   "metadata": {},
   "outputs": [
    {
     "name": "stdout",
     "output_type": "stream",
     "text": [
      "<class 'pandas.core.frame.DataFrame'>\n",
      "RangeIndex: 2356 entries, 0 to 2355\n",
      "Data columns (total 17 columns):\n",
      " #   Column                      Non-Null Count  Dtype  \n",
      "---  ------                      --------------  -----  \n",
      " 0   tweet_id                    2356 non-null   int64  \n",
      " 1   in_reply_to_status_id       78 non-null     float64\n",
      " 2   in_reply_to_user_id         78 non-null     float64\n",
      " 3   timestamp                   2356 non-null   object \n",
      " 4   source                      2356 non-null   object \n",
      " 5   text                        2356 non-null   object \n",
      " 6   retweeted_status_id         181 non-null    float64\n",
      " 7   retweeted_status_user_id    181 non-null    float64\n",
      " 8   retweeted_status_timestamp  181 non-null    object \n",
      " 9   expanded_urls               2297 non-null   object \n",
      " 10  rating_numerator            2356 non-null   int64  \n",
      " 11  rating_denominator          2356 non-null   int64  \n",
      " 12  name                        2356 non-null   object \n",
      " 13  doggo                       2356 non-null   object \n",
      " 14  floofer                     2356 non-null   object \n",
      " 15  pupper                      2356 non-null   object \n",
      " 16  puppo                       2356 non-null   object \n",
      "dtypes: float64(4), int64(3), object(10)\n",
      "memory usage: 313.0+ KB\n"
     ]
    }
   ],
   "source": [
    "tweets_df.info()"
   ]
  },
  {
   "cell_type": "code",
   "execution_count": 15,
   "id": "845f01e6",
   "metadata": {},
   "outputs": [
    {
     "data": {
      "text/html": [
       "<div>\n",
       "<style scoped>\n",
       "    .dataframe tbody tr th:only-of-type {\n",
       "        vertical-align: middle;\n",
       "    }\n",
       "\n",
       "    .dataframe tbody tr th {\n",
       "        vertical-align: top;\n",
       "    }\n",
       "\n",
       "    .dataframe thead th {\n",
       "        text-align: right;\n",
       "    }\n",
       "</style>\n",
       "<table border=\"1\" class=\"dataframe\">\n",
       "  <thead>\n",
       "    <tr style=\"text-align: right;\">\n",
       "      <th></th>\n",
       "      <th>tweet_id</th>\n",
       "      <th>in_reply_to_status_id</th>\n",
       "      <th>in_reply_to_user_id</th>\n",
       "      <th>timestamp</th>\n",
       "      <th>source</th>\n",
       "      <th>text</th>\n",
       "      <th>retweeted_status_id</th>\n",
       "      <th>retweeted_status_user_id</th>\n",
       "      <th>retweeted_status_timestamp</th>\n",
       "      <th>expanded_urls</th>\n",
       "      <th>rating_numerator</th>\n",
       "      <th>rating_denominator</th>\n",
       "      <th>name</th>\n",
       "      <th>doggo</th>\n",
       "      <th>floofer</th>\n",
       "      <th>pupper</th>\n",
       "      <th>puppo</th>\n",
       "    </tr>\n",
       "  </thead>\n",
       "  <tbody>\n",
       "    <tr>\n",
       "      <th>582</th>\n",
       "      <td>800388270626521089</td>\n",
       "      <td>NaN</td>\n",
       "      <td>NaN</td>\n",
       "      <td>2016-11-20 17:20:08 +0000</td>\n",
       "      <td>&lt;a href=\"http://twitter.com/download/iphone\" r...</td>\n",
       "      <td>This is Doc. He takes time out of every day to...</td>\n",
       "      <td>NaN</td>\n",
       "      <td>NaN</td>\n",
       "      <td>NaN</td>\n",
       "      <td>https://twitter.com/dog_rates/status/800388270...</td>\n",
       "      <td>12</td>\n",
       "      <td>10</td>\n",
       "      <td>Doc</td>\n",
       "      <td>None</td>\n",
       "      <td>floofer</td>\n",
       "      <td>None</td>\n",
       "      <td>None</td>\n",
       "    </tr>\n",
       "    <tr>\n",
       "      <th>168</th>\n",
       "      <td>859607811541651456</td>\n",
       "      <td>NaN</td>\n",
       "      <td>NaN</td>\n",
       "      <td>2017-05-03 03:17:27 +0000</td>\n",
       "      <td>&lt;a href=\"http://twitter.com/download/iphone\" r...</td>\n",
       "      <td>Sorry for the lack of posts today. I came home...</td>\n",
       "      <td>NaN</td>\n",
       "      <td>NaN</td>\n",
       "      <td>NaN</td>\n",
       "      <td>https://twitter.com/dog_rates/status/859607811...</td>\n",
       "      <td>13</td>\n",
       "      <td>10</td>\n",
       "      <td>None</td>\n",
       "      <td>None</td>\n",
       "      <td>None</td>\n",
       "      <td>None</td>\n",
       "      <td>puppo</td>\n",
       "    </tr>\n",
       "    <tr>\n",
       "      <th>1464</th>\n",
       "      <td>694356675654983680</td>\n",
       "      <td>6.706684e+17</td>\n",
       "      <td>4.196984e+09</td>\n",
       "      <td>2016-02-02 03:08:26 +0000</td>\n",
       "      <td>&lt;a href=\"http://twitter.com/download/iphone\" r...</td>\n",
       "      <td>This pupper only appears through the hole of a...</td>\n",
       "      <td>NaN</td>\n",
       "      <td>NaN</td>\n",
       "      <td>NaN</td>\n",
       "      <td>https://twitter.com/dog_rates/status/694356675...</td>\n",
       "      <td>10</td>\n",
       "      <td>10</td>\n",
       "      <td>None</td>\n",
       "      <td>None</td>\n",
       "      <td>None</td>\n",
       "      <td>pupper</td>\n",
       "      <td>None</td>\n",
       "    </tr>\n",
       "    <tr>\n",
       "      <th>543</th>\n",
       "      <td>805958939288408065</td>\n",
       "      <td>NaN</td>\n",
       "      <td>NaN</td>\n",
       "      <td>2016-12-06 02:15:59 +0000</td>\n",
       "      <td>&lt;a href=\"http://twitter.com/download/iphone\" r...</td>\n",
       "      <td>RT @dog_rates: This is Penny. She fought a bee...</td>\n",
       "      <td>7.827226e+17</td>\n",
       "      <td>4.196984e+09</td>\n",
       "      <td>2016-10-02 23:23:04 +0000</td>\n",
       "      <td>https://twitter.com/dog_rates/status/782722598...</td>\n",
       "      <td>10</td>\n",
       "      <td>10</td>\n",
       "      <td>Penny</td>\n",
       "      <td>None</td>\n",
       "      <td>None</td>\n",
       "      <td>None</td>\n",
       "      <td>None</td>\n",
       "    </tr>\n",
       "    <tr>\n",
       "      <th>887</th>\n",
       "      <td>759923798737051648</td>\n",
       "      <td>NaN</td>\n",
       "      <td>NaN</td>\n",
       "      <td>2016-08-01 01:28:46 +0000</td>\n",
       "      <td>&lt;a href=\"http://twitter.com/download/iphone\" r...</td>\n",
       "      <td>We only rate dogs... this is a Taiwanese Guide...</td>\n",
       "      <td>NaN</td>\n",
       "      <td>NaN</td>\n",
       "      <td>NaN</td>\n",
       "      <td>https://twitter.com/dog_rates/status/759923798...</td>\n",
       "      <td>10</td>\n",
       "      <td>10</td>\n",
       "      <td>None</td>\n",
       "      <td>None</td>\n",
       "      <td>None</td>\n",
       "      <td>None</td>\n",
       "      <td>None</td>\n",
       "    </tr>\n",
       "    <tr>\n",
       "      <th>986</th>\n",
       "      <td>749064354620928000</td>\n",
       "      <td>NaN</td>\n",
       "      <td>NaN</td>\n",
       "      <td>2016-07-02 02:17:13 +0000</td>\n",
       "      <td>&lt;a href=\"http://twitter.com/download/iphone\" r...</td>\n",
       "      <td>Meet Winston. He's pupset because I forgot to ...</td>\n",
       "      <td>NaN</td>\n",
       "      <td>NaN</td>\n",
       "      <td>NaN</td>\n",
       "      <td>https://twitter.com/dog_rates/status/749064354...</td>\n",
       "      <td>11</td>\n",
       "      <td>10</td>\n",
       "      <td>Winston</td>\n",
       "      <td>None</td>\n",
       "      <td>None</td>\n",
       "      <td>None</td>\n",
       "      <td>None</td>\n",
       "    </tr>\n",
       "    <tr>\n",
       "      <th>1073</th>\n",
       "      <td>739932936087216128</td>\n",
       "      <td>NaN</td>\n",
       "      <td>NaN</td>\n",
       "      <td>2016-06-06 21:32:13 +0000</td>\n",
       "      <td>&lt;a href=\"http://twitter.com/download/iphone\" r...</td>\n",
       "      <td>Say hello to Rorie. She's zen af. Just enjoyin...</td>\n",
       "      <td>NaN</td>\n",
       "      <td>NaN</td>\n",
       "      <td>NaN</td>\n",
       "      <td>https://twitter.com/dog_rates/status/739932936...</td>\n",
       "      <td>10</td>\n",
       "      <td>10</td>\n",
       "      <td>Rorie</td>\n",
       "      <td>None</td>\n",
       "      <td>None</td>\n",
       "      <td>None</td>\n",
       "      <td>None</td>\n",
       "    </tr>\n",
       "    <tr>\n",
       "      <th>1423</th>\n",
       "      <td>697995514407682048</td>\n",
       "      <td>NaN</td>\n",
       "      <td>NaN</td>\n",
       "      <td>2016-02-12 04:07:53 +0000</td>\n",
       "      <td>&lt;a href=\"http://twitter.com/download/iphone\" r...</td>\n",
       "      <td>\"Dammit hooman quit playin I jus wanna wheat t...</td>\n",
       "      <td>NaN</td>\n",
       "      <td>NaN</td>\n",
       "      <td>NaN</td>\n",
       "      <td>https://twitter.com/dog_rates/status/697995514...</td>\n",
       "      <td>11</td>\n",
       "      <td>10</td>\n",
       "      <td>None</td>\n",
       "      <td>None</td>\n",
       "      <td>None</td>\n",
       "      <td>None</td>\n",
       "      <td>None</td>\n",
       "    </tr>\n",
       "    <tr>\n",
       "      <th>375</th>\n",
       "      <td>828361771580813312</td>\n",
       "      <td>NaN</td>\n",
       "      <td>NaN</td>\n",
       "      <td>2017-02-05 21:56:51 +0000</td>\n",
       "      <td>&lt;a href=\"http://twitter.com\" rel=\"nofollow\"&gt;Tw...</td>\n",
       "      <td>Beebop and Doobert should start a band 12/10 w...</td>\n",
       "      <td>NaN</td>\n",
       "      <td>NaN</td>\n",
       "      <td>NaN</td>\n",
       "      <td>NaN</td>\n",
       "      <td>12</td>\n",
       "      <td>10</td>\n",
       "      <td>None</td>\n",
       "      <td>None</td>\n",
       "      <td>None</td>\n",
       "      <td>None</td>\n",
       "      <td>None</td>\n",
       "    </tr>\n",
       "    <tr>\n",
       "      <th>139</th>\n",
       "      <td>865359393868664832</td>\n",
       "      <td>NaN</td>\n",
       "      <td>NaN</td>\n",
       "      <td>2017-05-19 00:12:11 +0000</td>\n",
       "      <td>&lt;a href=\"http://twitter.com/download/iphone\" r...</td>\n",
       "      <td>This is Sammy. Her tongue ejects without warni...</td>\n",
       "      <td>NaN</td>\n",
       "      <td>NaN</td>\n",
       "      <td>NaN</td>\n",
       "      <td>https://twitter.com/dog_rates/status/865359393...</td>\n",
       "      <td>13</td>\n",
       "      <td>10</td>\n",
       "      <td>Sammy</td>\n",
       "      <td>None</td>\n",
       "      <td>None</td>\n",
       "      <td>None</td>\n",
       "      <td>None</td>\n",
       "    </tr>\n",
       "    <tr>\n",
       "      <th>463</th>\n",
       "      <td>817423860136083457</td>\n",
       "      <td>NaN</td>\n",
       "      <td>NaN</td>\n",
       "      <td>2017-01-06 17:33:29 +0000</td>\n",
       "      <td>&lt;a href=\"http://twitter.com/download/iphone\" r...</td>\n",
       "      <td>This is Ken. His cheeks are magic. 13/10 (IG: ...</td>\n",
       "      <td>NaN</td>\n",
       "      <td>NaN</td>\n",
       "      <td>NaN</td>\n",
       "      <td>https://twitter.com/dog_rates/status/817423860...</td>\n",
       "      <td>13</td>\n",
       "      <td>10</td>\n",
       "      <td>Ken</td>\n",
       "      <td>None</td>\n",
       "      <td>None</td>\n",
       "      <td>None</td>\n",
       "      <td>None</td>\n",
       "    </tr>\n",
       "    <tr>\n",
       "      <th>661</th>\n",
       "      <td>791026214425268224</td>\n",
       "      <td>NaN</td>\n",
       "      <td>NaN</td>\n",
       "      <td>2016-10-25 21:18:40 +0000</td>\n",
       "      <td>&lt;a href=\"http://twitter.com/download/iphone\" r...</td>\n",
       "      <td>RT @dog_rates: This is Alfie. He's touching a ...</td>\n",
       "      <td>7.638376e+17</td>\n",
       "      <td>4.196984e+09</td>\n",
       "      <td>2016-08-11 20:40:41 +0000</td>\n",
       "      <td>https://twitter.com/dog_rates/status/763837565...</td>\n",
       "      <td>11</td>\n",
       "      <td>10</td>\n",
       "      <td>Alfie</td>\n",
       "      <td>None</td>\n",
       "      <td>None</td>\n",
       "      <td>None</td>\n",
       "      <td>None</td>\n",
       "    </tr>\n",
       "    <tr>\n",
       "      <th>690</th>\n",
       "      <td>787397959788929025</td>\n",
       "      <td>NaN</td>\n",
       "      <td>NaN</td>\n",
       "      <td>2016-10-15 21:01:17 +0000</td>\n",
       "      <td>&lt;a href=\"http://twitter.com/download/iphone\" r...</td>\n",
       "      <td>This is Moose. He's rather h*ckin dangerous (y...</td>\n",
       "      <td>NaN</td>\n",
       "      <td>NaN</td>\n",
       "      <td>NaN</td>\n",
       "      <td>https://twitter.com/dog_rates/status/787397959...</td>\n",
       "      <td>11</td>\n",
       "      <td>10</td>\n",
       "      <td>Moose</td>\n",
       "      <td>None</td>\n",
       "      <td>None</td>\n",
       "      <td>None</td>\n",
       "      <td>None</td>\n",
       "    </tr>\n",
       "    <tr>\n",
       "      <th>69</th>\n",
       "      <td>879050749262655488</td>\n",
       "      <td>NaN</td>\n",
       "      <td>NaN</td>\n",
       "      <td>2017-06-25 18:56:45 +0000</td>\n",
       "      <td>&lt;a href=\"http://twitter.com/download/iphone\" r...</td>\n",
       "      <td>This is Steven. He has trouble relating to oth...</td>\n",
       "      <td>NaN</td>\n",
       "      <td>NaN</td>\n",
       "      <td>NaN</td>\n",
       "      <td>https://twitter.com/dog_rates/status/879050749...</td>\n",
       "      <td>11</td>\n",
       "      <td>10</td>\n",
       "      <td>Steven</td>\n",
       "      <td>None</td>\n",
       "      <td>None</td>\n",
       "      <td>None</td>\n",
       "      <td>None</td>\n",
       "    </tr>\n",
       "    <tr>\n",
       "      <th>53</th>\n",
       "      <td>881906580714921986</td>\n",
       "      <td>NaN</td>\n",
       "      <td>NaN</td>\n",
       "      <td>2017-07-03 16:04:48 +0000</td>\n",
       "      <td>&lt;a href=\"http://twitter.com/download/iphone\" r...</td>\n",
       "      <td>This is Rey. He's a Benebop Cumberfloof. 12/10...</td>\n",
       "      <td>NaN</td>\n",
       "      <td>NaN</td>\n",
       "      <td>NaN</td>\n",
       "      <td>https://twitter.com/dog_rates/status/881906580...</td>\n",
       "      <td>12</td>\n",
       "      <td>10</td>\n",
       "      <td>Rey</td>\n",
       "      <td>None</td>\n",
       "      <td>None</td>\n",
       "      <td>None</td>\n",
       "      <td>None</td>\n",
       "    </tr>\n",
       "  </tbody>\n",
       "</table>\n",
       "</div>"
      ],
      "text/plain": [
       "                tweet_id  in_reply_to_status_id  in_reply_to_user_id  \\\n",
       "582   800388270626521089                    NaN                  NaN   \n",
       "168   859607811541651456                    NaN                  NaN   \n",
       "1464  694356675654983680           6.706684e+17         4.196984e+09   \n",
       "543   805958939288408065                    NaN                  NaN   \n",
       "887   759923798737051648                    NaN                  NaN   \n",
       "986   749064354620928000                    NaN                  NaN   \n",
       "1073  739932936087216128                    NaN                  NaN   \n",
       "1423  697995514407682048                    NaN                  NaN   \n",
       "375   828361771580813312                    NaN                  NaN   \n",
       "139   865359393868664832                    NaN                  NaN   \n",
       "463   817423860136083457                    NaN                  NaN   \n",
       "661   791026214425268224                    NaN                  NaN   \n",
       "690   787397959788929025                    NaN                  NaN   \n",
       "69    879050749262655488                    NaN                  NaN   \n",
       "53    881906580714921986                    NaN                  NaN   \n",
       "\n",
       "                      timestamp  \\\n",
       "582   2016-11-20 17:20:08 +0000   \n",
       "168   2017-05-03 03:17:27 +0000   \n",
       "1464  2016-02-02 03:08:26 +0000   \n",
       "543   2016-12-06 02:15:59 +0000   \n",
       "887   2016-08-01 01:28:46 +0000   \n",
       "986   2016-07-02 02:17:13 +0000   \n",
       "1073  2016-06-06 21:32:13 +0000   \n",
       "1423  2016-02-12 04:07:53 +0000   \n",
       "375   2017-02-05 21:56:51 +0000   \n",
       "139   2017-05-19 00:12:11 +0000   \n",
       "463   2017-01-06 17:33:29 +0000   \n",
       "661   2016-10-25 21:18:40 +0000   \n",
       "690   2016-10-15 21:01:17 +0000   \n",
       "69    2017-06-25 18:56:45 +0000   \n",
       "53    2017-07-03 16:04:48 +0000   \n",
       "\n",
       "                                                 source  \\\n",
       "582   <a href=\"http://twitter.com/download/iphone\" r...   \n",
       "168   <a href=\"http://twitter.com/download/iphone\" r...   \n",
       "1464  <a href=\"http://twitter.com/download/iphone\" r...   \n",
       "543   <a href=\"http://twitter.com/download/iphone\" r...   \n",
       "887   <a href=\"http://twitter.com/download/iphone\" r...   \n",
       "986   <a href=\"http://twitter.com/download/iphone\" r...   \n",
       "1073  <a href=\"http://twitter.com/download/iphone\" r...   \n",
       "1423  <a href=\"http://twitter.com/download/iphone\" r...   \n",
       "375   <a href=\"http://twitter.com\" rel=\"nofollow\">Tw...   \n",
       "139   <a href=\"http://twitter.com/download/iphone\" r...   \n",
       "463   <a href=\"http://twitter.com/download/iphone\" r...   \n",
       "661   <a href=\"http://twitter.com/download/iphone\" r...   \n",
       "690   <a href=\"http://twitter.com/download/iphone\" r...   \n",
       "69    <a href=\"http://twitter.com/download/iphone\" r...   \n",
       "53    <a href=\"http://twitter.com/download/iphone\" r...   \n",
       "\n",
       "                                                   text  retweeted_status_id  \\\n",
       "582   This is Doc. He takes time out of every day to...                  NaN   \n",
       "168   Sorry for the lack of posts today. I came home...                  NaN   \n",
       "1464  This pupper only appears through the hole of a...                  NaN   \n",
       "543   RT @dog_rates: This is Penny. She fought a bee...         7.827226e+17   \n",
       "887   We only rate dogs... this is a Taiwanese Guide...                  NaN   \n",
       "986   Meet Winston. He's pupset because I forgot to ...                  NaN   \n",
       "1073  Say hello to Rorie. She's zen af. Just enjoyin...                  NaN   \n",
       "1423  \"Dammit hooman quit playin I jus wanna wheat t...                  NaN   \n",
       "375   Beebop and Doobert should start a band 12/10 w...                  NaN   \n",
       "139   This is Sammy. Her tongue ejects without warni...                  NaN   \n",
       "463   This is Ken. His cheeks are magic. 13/10 (IG: ...                  NaN   \n",
       "661   RT @dog_rates: This is Alfie. He's touching a ...         7.638376e+17   \n",
       "690   This is Moose. He's rather h*ckin dangerous (y...                  NaN   \n",
       "69    This is Steven. He has trouble relating to oth...                  NaN   \n",
       "53    This is Rey. He's a Benebop Cumberfloof. 12/10...                  NaN   \n",
       "\n",
       "      retweeted_status_user_id retweeted_status_timestamp  \\\n",
       "582                        NaN                        NaN   \n",
       "168                        NaN                        NaN   \n",
       "1464                       NaN                        NaN   \n",
       "543               4.196984e+09  2016-10-02 23:23:04 +0000   \n",
       "887                        NaN                        NaN   \n",
       "986                        NaN                        NaN   \n",
       "1073                       NaN                        NaN   \n",
       "1423                       NaN                        NaN   \n",
       "375                        NaN                        NaN   \n",
       "139                        NaN                        NaN   \n",
       "463                        NaN                        NaN   \n",
       "661               4.196984e+09  2016-08-11 20:40:41 +0000   \n",
       "690                        NaN                        NaN   \n",
       "69                         NaN                        NaN   \n",
       "53                         NaN                        NaN   \n",
       "\n",
       "                                          expanded_urls  rating_numerator  \\\n",
       "582   https://twitter.com/dog_rates/status/800388270...                12   \n",
       "168   https://twitter.com/dog_rates/status/859607811...                13   \n",
       "1464  https://twitter.com/dog_rates/status/694356675...                10   \n",
       "543   https://twitter.com/dog_rates/status/782722598...                10   \n",
       "887   https://twitter.com/dog_rates/status/759923798...                10   \n",
       "986   https://twitter.com/dog_rates/status/749064354...                11   \n",
       "1073  https://twitter.com/dog_rates/status/739932936...                10   \n",
       "1423  https://twitter.com/dog_rates/status/697995514...                11   \n",
       "375                                                 NaN                12   \n",
       "139   https://twitter.com/dog_rates/status/865359393...                13   \n",
       "463   https://twitter.com/dog_rates/status/817423860...                13   \n",
       "661   https://twitter.com/dog_rates/status/763837565...                11   \n",
       "690   https://twitter.com/dog_rates/status/787397959...                11   \n",
       "69    https://twitter.com/dog_rates/status/879050749...                11   \n",
       "53    https://twitter.com/dog_rates/status/881906580...                12   \n",
       "\n",
       "      rating_denominator     name doggo  floofer  pupper  puppo  \n",
       "582                   10      Doc  None  floofer    None   None  \n",
       "168                   10     None  None     None    None  puppo  \n",
       "1464                  10     None  None     None  pupper   None  \n",
       "543                   10    Penny  None     None    None   None  \n",
       "887                   10     None  None     None    None   None  \n",
       "986                   10  Winston  None     None    None   None  \n",
       "1073                  10    Rorie  None     None    None   None  \n",
       "1423                  10     None  None     None    None   None  \n",
       "375                   10     None  None     None    None   None  \n",
       "139                   10    Sammy  None     None    None   None  \n",
       "463                   10      Ken  None     None    None   None  \n",
       "661                   10    Alfie  None     None    None   None  \n",
       "690                   10    Moose  None     None    None   None  \n",
       "69                    10   Steven  None     None    None   None  \n",
       "53                    10      Rey  None     None    None   None  "
      ]
     },
     "execution_count": 15,
     "metadata": {},
     "output_type": "execute_result"
    }
   ],
   "source": [
    "tweets_df.sample(15)"
   ]
  },
  {
   "cell_type": "code",
   "execution_count": null,
   "id": "1611e9d5",
   "metadata": {},
   "outputs": [],
   "source": []
  },
  {
   "cell_type": "markdown",
   "id": "e0e570d8",
   "metadata": {},
   "source": [
    "##### Accessing the images_df (image_predictions.tsv) dataset"
   ]
  },
  {
   "cell_type": "code",
   "execution_count": 16,
   "id": "596a4e47",
   "metadata": {},
   "outputs": [
    {
     "data": {
      "text/plain": [
       "(2075, 12)"
      ]
     },
     "execution_count": 16,
     "metadata": {},
     "output_type": "execute_result"
    }
   ],
   "source": [
    "images_df.shape"
   ]
  },
  {
   "cell_type": "code",
   "execution_count": 17,
   "id": "d6709989",
   "metadata": {},
   "outputs": [
    {
     "name": "stdout",
     "output_type": "stream",
     "text": [
      "<class 'pandas.core.frame.DataFrame'>\n",
      "RangeIndex: 2075 entries, 0 to 2074\n",
      "Data columns (total 12 columns):\n",
      " #   Column    Non-Null Count  Dtype  \n",
      "---  ------    --------------  -----  \n",
      " 0   tweet_id  2075 non-null   int64  \n",
      " 1   jpg_url   2075 non-null   object \n",
      " 2   img_num   2075 non-null   int64  \n",
      " 3   p1        2075 non-null   object \n",
      " 4   p1_conf   2075 non-null   float64\n",
      " 5   p1_dog    2075 non-null   bool   \n",
      " 6   p2        2075 non-null   object \n",
      " 7   p2_conf   2075 non-null   float64\n",
      " 8   p2_dog    2075 non-null   bool   \n",
      " 9   p3        2075 non-null   object \n",
      " 10  p3_conf   2075 non-null   float64\n",
      " 11  p3_dog    2075 non-null   bool   \n",
      "dtypes: bool(3), float64(3), int64(2), object(4)\n",
      "memory usage: 152.1+ KB\n"
     ]
    }
   ],
   "source": [
    "images_df.info()"
   ]
  },
  {
   "cell_type": "code",
   "execution_count": 18,
   "id": "addbb26f",
   "metadata": {},
   "outputs": [
    {
     "data": {
      "text/html": [
       "<div>\n",
       "<style scoped>\n",
       "    .dataframe tbody tr th:only-of-type {\n",
       "        vertical-align: middle;\n",
       "    }\n",
       "\n",
       "    .dataframe tbody tr th {\n",
       "        vertical-align: top;\n",
       "    }\n",
       "\n",
       "    .dataframe thead th {\n",
       "        text-align: right;\n",
       "    }\n",
       "</style>\n",
       "<table border=\"1\" class=\"dataframe\">\n",
       "  <thead>\n",
       "    <tr style=\"text-align: right;\">\n",
       "      <th></th>\n",
       "      <th>tweet_id</th>\n",
       "      <th>jpg_url</th>\n",
       "      <th>img_num</th>\n",
       "      <th>p1</th>\n",
       "      <th>p1_conf</th>\n",
       "      <th>p1_dog</th>\n",
       "      <th>p2</th>\n",
       "      <th>p2_conf</th>\n",
       "      <th>p2_dog</th>\n",
       "      <th>p3</th>\n",
       "      <th>p3_conf</th>\n",
       "      <th>p3_dog</th>\n",
       "    </tr>\n",
       "  </thead>\n",
       "  <tbody>\n",
       "    <tr>\n",
       "      <th>1480</th>\n",
       "      <td>780858289093574656</td>\n",
       "      <td>https://pbs.twimg.com/media/CtYqeNHWgAATqYZ.jpg</td>\n",
       "      <td>1</td>\n",
       "      <td>Chesapeake_Bay_retriever</td>\n",
       "      <td>0.488555</td>\n",
       "      <td>True</td>\n",
       "      <td>Sussex_spaniel</td>\n",
       "      <td>0.271655</td>\n",
       "      <td>True</td>\n",
       "      <td>kelpie</td>\n",
       "      <td>0.106913</td>\n",
       "      <td>True</td>\n",
       "    </tr>\n",
       "    <tr>\n",
       "      <th>203</th>\n",
       "      <td>669749430875258880</td>\n",
       "      <td>https://pbs.twimg.com/media/CUttjYtWcAAdPgI.jpg</td>\n",
       "      <td>1</td>\n",
       "      <td>washbasin</td>\n",
       "      <td>0.245794</td>\n",
       "      <td>False</td>\n",
       "      <td>toilet_seat</td>\n",
       "      <td>0.109420</td>\n",
       "      <td>False</td>\n",
       "      <td>paper_towel</td>\n",
       "      <td>0.105664</td>\n",
       "      <td>False</td>\n",
       "    </tr>\n",
       "    <tr>\n",
       "      <th>1821</th>\n",
       "      <td>834574053763584002</td>\n",
       "      <td>https://pbs.twimg.com/media/C5UAqgyXAAAbMWH.jpg</td>\n",
       "      <td>1</td>\n",
       "      <td>toilet_tissue</td>\n",
       "      <td>0.262936</td>\n",
       "      <td>False</td>\n",
       "      <td>golden_retriever</td>\n",
       "      <td>0.226564</td>\n",
       "      <td>True</td>\n",
       "      <td>bathtub</td>\n",
       "      <td>0.078879</td>\n",
       "      <td>False</td>\n",
       "    </tr>\n",
       "    <tr>\n",
       "      <th>213</th>\n",
       "      <td>670040295598354432</td>\n",
       "      <td>https://pbs.twimg.com/media/CUx2F6lVEAAvFev.jpg</td>\n",
       "      <td>1</td>\n",
       "      <td>web_site</td>\n",
       "      <td>0.901552</td>\n",
       "      <td>False</td>\n",
       "      <td>borzoi</td>\n",
       "      <td>0.026660</td>\n",
       "      <td>True</td>\n",
       "      <td>Chihuahua</td>\n",
       "      <td>0.012438</td>\n",
       "      <td>True</td>\n",
       "    </tr>\n",
       "    <tr>\n",
       "      <th>1181</th>\n",
       "      <td>738184450748633089</td>\n",
       "      <td>https://pbs.twimg.com/media/Cj6O1G9UYAAIU-1.jpg</td>\n",
       "      <td>1</td>\n",
       "      <td>Bedlington_terrier</td>\n",
       "      <td>0.289471</td>\n",
       "      <td>True</td>\n",
       "      <td>standard_poodle</td>\n",
       "      <td>0.173685</td>\n",
       "      <td>True</td>\n",
       "      <td>Great_Pyrenees</td>\n",
       "      <td>0.157081</td>\n",
       "      <td>True</td>\n",
       "    </tr>\n",
       "    <tr>\n",
       "      <th>1708</th>\n",
       "      <td>817827839487737858</td>\n",
       "      <td>https://pbs.twimg.com/ext_tw_video_thumb/81782...</td>\n",
       "      <td>1</td>\n",
       "      <td>cocker_spaniel</td>\n",
       "      <td>0.387608</td>\n",
       "      <td>True</td>\n",
       "      <td>golden_retriever</td>\n",
       "      <td>0.264844</td>\n",
       "      <td>True</td>\n",
       "      <td>Pekinese</td>\n",
       "      <td>0.122123</td>\n",
       "      <td>True</td>\n",
       "    </tr>\n",
       "    <tr>\n",
       "      <th>176</th>\n",
       "      <td>669203728096960512</td>\n",
       "      <td>https://pbs.twimg.com/media/CUl9PGBVEAUV3Wz.jpg</td>\n",
       "      <td>1</td>\n",
       "      <td>pug</td>\n",
       "      <td>0.910452</td>\n",
       "      <td>True</td>\n",
       "      <td>French_bulldog</td>\n",
       "      <td>0.055090</td>\n",
       "      <td>True</td>\n",
       "      <td>Chihuahua</td>\n",
       "      <td>0.014897</td>\n",
       "      <td>True</td>\n",
       "    </tr>\n",
       "    <tr>\n",
       "      <th>664</th>\n",
       "      <td>682697186228989953</td>\n",
       "      <td>https://pbs.twimg.com/media/CXltdtaWYAIuX_V.jpg</td>\n",
       "      <td>1</td>\n",
       "      <td>bald_eagle</td>\n",
       "      <td>0.097232</td>\n",
       "      <td>False</td>\n",
       "      <td>torch</td>\n",
       "      <td>0.096621</td>\n",
       "      <td>False</td>\n",
       "      <td>cliff</td>\n",
       "      <td>0.090385</td>\n",
       "      <td>False</td>\n",
       "    </tr>\n",
       "    <tr>\n",
       "      <th>1205</th>\n",
       "      <td>741793263812808706</td>\n",
       "      <td>https://pbs.twimg.com/media/CkthBj7WgAAsIGb.jpg</td>\n",
       "      <td>1</td>\n",
       "      <td>kuvasz</td>\n",
       "      <td>0.311325</td>\n",
       "      <td>True</td>\n",
       "      <td>French_bulldog</td>\n",
       "      <td>0.115349</td>\n",
       "      <td>True</td>\n",
       "      <td>Labrador_retriever</td>\n",
       "      <td>0.068533</td>\n",
       "      <td>True</td>\n",
       "    </tr>\n",
       "    <tr>\n",
       "      <th>896</th>\n",
       "      <td>699691744225525762</td>\n",
       "      <td>https://pbs.twimg.com/media/CbXN7aPWIAE0Xt1.jpg</td>\n",
       "      <td>1</td>\n",
       "      <td>hippopotamus</td>\n",
       "      <td>0.982269</td>\n",
       "      <td>False</td>\n",
       "      <td>sea_lion</td>\n",
       "      <td>0.006295</td>\n",
       "      <td>False</td>\n",
       "      <td>dugong</td>\n",
       "      <td>0.005768</td>\n",
       "      <td>False</td>\n",
       "    </tr>\n",
       "    <tr>\n",
       "      <th>1972</th>\n",
       "      <td>869596645499047938</td>\n",
       "      <td>https://pbs.twimg.com/media/DBFtiYqWAAAsjj1.jpg</td>\n",
       "      <td>1</td>\n",
       "      <td>Chihuahua</td>\n",
       "      <td>0.955156</td>\n",
       "      <td>True</td>\n",
       "      <td>toy_terrier</td>\n",
       "      <td>0.008054</td>\n",
       "      <td>True</td>\n",
       "      <td>muzzle</td>\n",
       "      <td>0.006296</td>\n",
       "      <td>False</td>\n",
       "    </tr>\n",
       "    <tr>\n",
       "      <th>2070</th>\n",
       "      <td>891327558926688256</td>\n",
       "      <td>https://pbs.twimg.com/media/DF6hr6BUMAAzZgT.jpg</td>\n",
       "      <td>2</td>\n",
       "      <td>basset</td>\n",
       "      <td>0.555712</td>\n",
       "      <td>True</td>\n",
       "      <td>English_springer</td>\n",
       "      <td>0.225770</td>\n",
       "      <td>True</td>\n",
       "      <td>German_short-haired_pointer</td>\n",
       "      <td>0.175219</td>\n",
       "      <td>True</td>\n",
       "    </tr>\n",
       "    <tr>\n",
       "      <th>1475</th>\n",
       "      <td>780476555013349377</td>\n",
       "      <td>https://pbs.twimg.com/tweet_video_thumb/CtTFZZ...</td>\n",
       "      <td>1</td>\n",
       "      <td>pug</td>\n",
       "      <td>0.919255</td>\n",
       "      <td>True</td>\n",
       "      <td>French_bulldog</td>\n",
       "      <td>0.032350</td>\n",
       "      <td>True</td>\n",
       "      <td>bull_mastiff</td>\n",
       "      <td>0.028468</td>\n",
       "      <td>True</td>\n",
       "    </tr>\n",
       "    <tr>\n",
       "      <th>1827</th>\n",
       "      <td>835297930240217089</td>\n",
       "      <td>https://pbs.twimg.com/media/C5eTCOVUsAAWhvc.jpg</td>\n",
       "      <td>1</td>\n",
       "      <td>Rottweiler</td>\n",
       "      <td>0.341276</td>\n",
       "      <td>True</td>\n",
       "      <td>Border_terrier</td>\n",
       "      <td>0.336220</td>\n",
       "      <td>True</td>\n",
       "      <td>Gordon_setter</td>\n",
       "      <td>0.045448</td>\n",
       "      <td>True</td>\n",
       "    </tr>\n",
       "    <tr>\n",
       "      <th>1321</th>\n",
       "      <td>756303284449767430</td>\n",
       "      <td>https://pbs.twimg.com/media/Cn7tyyZWYAAPlAY.jpg</td>\n",
       "      <td>1</td>\n",
       "      <td>golden_retriever</td>\n",
       "      <td>0.981652</td>\n",
       "      <td>True</td>\n",
       "      <td>cocker_spaniel</td>\n",
       "      <td>0.006790</td>\n",
       "      <td>True</td>\n",
       "      <td>Labrador_retriever</td>\n",
       "      <td>0.004325</td>\n",
       "      <td>True</td>\n",
       "    </tr>\n",
       "  </tbody>\n",
       "</table>\n",
       "</div>"
      ],
      "text/plain": [
       "                tweet_id                                            jpg_url  \\\n",
       "1480  780858289093574656    https://pbs.twimg.com/media/CtYqeNHWgAATqYZ.jpg   \n",
       "203   669749430875258880    https://pbs.twimg.com/media/CUttjYtWcAAdPgI.jpg   \n",
       "1821  834574053763584002    https://pbs.twimg.com/media/C5UAqgyXAAAbMWH.jpg   \n",
       "213   670040295598354432    https://pbs.twimg.com/media/CUx2F6lVEAAvFev.jpg   \n",
       "1181  738184450748633089    https://pbs.twimg.com/media/Cj6O1G9UYAAIU-1.jpg   \n",
       "1708  817827839487737858  https://pbs.twimg.com/ext_tw_video_thumb/81782...   \n",
       "176   669203728096960512    https://pbs.twimg.com/media/CUl9PGBVEAUV3Wz.jpg   \n",
       "664   682697186228989953    https://pbs.twimg.com/media/CXltdtaWYAIuX_V.jpg   \n",
       "1205  741793263812808706    https://pbs.twimg.com/media/CkthBj7WgAAsIGb.jpg   \n",
       "896   699691744225525762    https://pbs.twimg.com/media/CbXN7aPWIAE0Xt1.jpg   \n",
       "1972  869596645499047938    https://pbs.twimg.com/media/DBFtiYqWAAAsjj1.jpg   \n",
       "2070  891327558926688256    https://pbs.twimg.com/media/DF6hr6BUMAAzZgT.jpg   \n",
       "1475  780476555013349377  https://pbs.twimg.com/tweet_video_thumb/CtTFZZ...   \n",
       "1827  835297930240217089    https://pbs.twimg.com/media/C5eTCOVUsAAWhvc.jpg   \n",
       "1321  756303284449767430    https://pbs.twimg.com/media/Cn7tyyZWYAAPlAY.jpg   \n",
       "\n",
       "      img_num                        p1   p1_conf  p1_dog                p2  \\\n",
       "1480        1  Chesapeake_Bay_retriever  0.488555    True    Sussex_spaniel   \n",
       "203         1                 washbasin  0.245794   False       toilet_seat   \n",
       "1821        1             toilet_tissue  0.262936   False  golden_retriever   \n",
       "213         1                  web_site  0.901552   False            borzoi   \n",
       "1181        1        Bedlington_terrier  0.289471    True   standard_poodle   \n",
       "1708        1            cocker_spaniel  0.387608    True  golden_retriever   \n",
       "176         1                       pug  0.910452    True    French_bulldog   \n",
       "664         1                bald_eagle  0.097232   False             torch   \n",
       "1205        1                    kuvasz  0.311325    True    French_bulldog   \n",
       "896         1              hippopotamus  0.982269   False          sea_lion   \n",
       "1972        1                 Chihuahua  0.955156    True       toy_terrier   \n",
       "2070        2                    basset  0.555712    True  English_springer   \n",
       "1475        1                       pug  0.919255    True    French_bulldog   \n",
       "1827        1                Rottweiler  0.341276    True    Border_terrier   \n",
       "1321        1          golden_retriever  0.981652    True    cocker_spaniel   \n",
       "\n",
       "       p2_conf  p2_dog                           p3   p3_conf  p3_dog  \n",
       "1480  0.271655    True                       kelpie  0.106913    True  \n",
       "203   0.109420   False                  paper_towel  0.105664   False  \n",
       "1821  0.226564    True                      bathtub  0.078879   False  \n",
       "213   0.026660    True                    Chihuahua  0.012438    True  \n",
       "1181  0.173685    True               Great_Pyrenees  0.157081    True  \n",
       "1708  0.264844    True                     Pekinese  0.122123    True  \n",
       "176   0.055090    True                    Chihuahua  0.014897    True  \n",
       "664   0.096621   False                        cliff  0.090385   False  \n",
       "1205  0.115349    True           Labrador_retriever  0.068533    True  \n",
       "896   0.006295   False                       dugong  0.005768   False  \n",
       "1972  0.008054    True                       muzzle  0.006296   False  \n",
       "2070  0.225770    True  German_short-haired_pointer  0.175219    True  \n",
       "1475  0.032350    True                 bull_mastiff  0.028468    True  \n",
       "1827  0.336220    True                Gordon_setter  0.045448    True  \n",
       "1321  0.006790    True           Labrador_retriever  0.004325    True  "
      ]
     },
     "execution_count": 18,
     "metadata": {},
     "output_type": "execute_result"
    }
   ],
   "source": [
    "images_df.sample(15)"
   ]
  },
  {
   "cell_type": "markdown",
   "id": "4cf4e69f",
   "metadata": {},
   "source": [
    "##### Accessing the tweets_data (tweet_json.txt) dataset"
   ]
  },
  {
   "cell_type": "code",
   "execution_count": 19,
   "id": "8545e06f",
   "metadata": {},
   "outputs": [
    {
     "name": "stdout",
     "output_type": "stream",
     "text": [
      "<class 'pandas.core.frame.DataFrame'>\n",
      "RangeIndex: 2325 entries, 0 to 2324\n",
      "Data columns (total 3 columns):\n",
      " #   Column           Non-Null Count  Dtype\n",
      "---  ------           --------------  -----\n",
      " 0   tweet_id         2325 non-null   int64\n",
      " 1    favorite_count  2325 non-null   int64\n",
      " 2    retweet_count   2325 non-null   int64\n",
      "dtypes: int64(3)\n",
      "memory usage: 54.6 KB\n"
     ]
    }
   ],
   "source": [
    "tweets_data.info()"
   ]
  },
  {
   "cell_type": "code",
   "execution_count": 20,
   "id": "6b64616b",
   "metadata": {},
   "outputs": [
    {
     "data": {
      "text/plain": [
       "(2325, 3)"
      ]
     },
     "execution_count": 20,
     "metadata": {},
     "output_type": "execute_result"
    }
   ],
   "source": [
    "tweets_data.shape"
   ]
  },
  {
   "cell_type": "code",
   "execution_count": 21,
   "id": "ac70e45e",
   "metadata": {},
   "outputs": [
    {
     "data": {
      "text/html": [
       "<div>\n",
       "<style scoped>\n",
       "    .dataframe tbody tr th:only-of-type {\n",
       "        vertical-align: middle;\n",
       "    }\n",
       "\n",
       "    .dataframe tbody tr th {\n",
       "        vertical-align: top;\n",
       "    }\n",
       "\n",
       "    .dataframe thead th {\n",
       "        text-align: right;\n",
       "    }\n",
       "</style>\n",
       "<table border=\"1\" class=\"dataframe\">\n",
       "  <thead>\n",
       "    <tr style=\"text-align: right;\">\n",
       "      <th></th>\n",
       "      <th>tweet_id</th>\n",
       "      <th>favorite_count</th>\n",
       "      <th>retweet_count</th>\n",
       "    </tr>\n",
       "  </thead>\n",
       "  <tbody>\n",
       "    <tr>\n",
       "      <th>2187</th>\n",
       "      <td>668507509523615744</td>\n",
       "      <td>279</td>\n",
       "      <td>87</td>\n",
       "    </tr>\n",
       "    <tr>\n",
       "      <th>802</th>\n",
       "      <td>769212283578875904</td>\n",
       "      <td>5085</td>\n",
       "      <td>1600</td>\n",
       "    </tr>\n",
       "    <tr>\n",
       "      <th>1562</th>\n",
       "      <td>686606069955735556</td>\n",
       "      <td>1754</td>\n",
       "      <td>492</td>\n",
       "    </tr>\n",
       "    <tr>\n",
       "      <th>929</th>\n",
       "      <td>751456908746354688</td>\n",
       "      <td>3012</td>\n",
       "      <td>925</td>\n",
       "    </tr>\n",
       "    <tr>\n",
       "      <th>1265</th>\n",
       "      <td>707995814724026368</td>\n",
       "      <td>2880</td>\n",
       "      <td>1017</td>\n",
       "    </tr>\n",
       "    <tr>\n",
       "      <th>672</th>\n",
       "      <td>786963064373534720</td>\n",
       "      <td>25289</td>\n",
       "      <td>7432</td>\n",
       "    </tr>\n",
       "    <tr>\n",
       "      <th>1368</th>\n",
       "      <td>699779630832685056</td>\n",
       "      <td>2510</td>\n",
       "      <td>1111</td>\n",
       "    </tr>\n",
       "    <tr>\n",
       "      <th>557</th>\n",
       "      <td>800751577355128832</td>\n",
       "      <td>10093</td>\n",
       "      <td>2635</td>\n",
       "    </tr>\n",
       "    <tr>\n",
       "      <th>756</th>\n",
       "      <td>775898661951791106</td>\n",
       "      <td>0</td>\n",
       "      <td>15537</td>\n",
       "    </tr>\n",
       "    <tr>\n",
       "      <th>485</th>\n",
       "      <td>813051746834595840</td>\n",
       "      <td>19923</td>\n",
       "      <td>6861</td>\n",
       "    </tr>\n",
       "  </tbody>\n",
       "</table>\n",
       "</div>"
      ],
      "text/plain": [
       "                tweet_id   favorite_count   retweet_count\n",
       "2187  668507509523615744              279              87\n",
       "802   769212283578875904             5085            1600\n",
       "1562  686606069955735556             1754             492\n",
       "929   751456908746354688             3012             925\n",
       "1265  707995814724026368             2880            1017\n",
       "672   786963064373534720            25289            7432\n",
       "1368  699779630832685056             2510            1111\n",
       "557   800751577355128832            10093            2635\n",
       "756   775898661951791106                0           15537\n",
       "485   813051746834595840            19923            6861"
      ]
     },
     "execution_count": 21,
     "metadata": {},
     "output_type": "execute_result"
    }
   ],
   "source": [
    "tweets_data.sample(10)"
   ]
  },
  {
   "cell_type": "markdown",
   "id": "eb8f76d1",
   "metadata": {},
   "source": [
    "##### Creating copies of datasets"
   ]
  },
  {
   "cell_type": "code",
   "execution_count": 22,
   "id": "b1f6e7f8",
   "metadata": {},
   "outputs": [],
   "source": [
    "tweets_df_clean = tweets_df.copy()\n",
    "images_df_clean = images_df.copy()\n",
    "tweets_data_clean = tweets_data.copy()"
   ]
  },
  {
   "cell_type": "markdown",
   "id": "2bf6bafd",
   "metadata": {},
   "source": [
    "### Data Cleaning\n",
    "\n",
    "While accessing the data some issues were found The issues have been split into two categories; Data Quality Issues and Data Tidiness Issues. The two classes of issues are further explained below."
   ]
  },
  {
   "cell_type": "markdown",
   "id": "36899319",
   "metadata": {},
   "source": [
    "``Data Quality Issues``"
   ]
  },
  {
   "cell_type": "markdown",
   "id": "1696038a",
   "metadata": {},
   "source": [
    "1. Some of the tweets in the twitter-archive-enhanced datasets have been deleted and their favorite and retweet count info can't be pulled from Twitter's API. We need to drop these records\n",
    "2. Timestamp values have a trailing ' +0000' at their ends. This should be stripped off\n",
    "3. Some of the features have the wrong datatype in the dataframe. Their datatypes need to be changed\n",
    "4. The source column values contain html tags. Extract the url from the values in the column\n",
    "5. Drop records in the tweets_df that don't have images\n",
    "6. Change 'None' and other invalid dog name values in the name column to np.nan values\n",
    "7. Extract the correct ratings using regular expressions\n",
    "8. Change status and User Id to object datatype"
   ]
  },
  {
   "cell_type": "markdown",
   "id": "23342279",
   "metadata": {},
   "source": [
    "``Data Tidiness Issues``"
   ]
  },
  {
   "cell_type": "markdown",
   "id": "700871d4",
   "metadata": {},
   "source": [
    "1. Strip the tweet_data columns of leading and trailing white spaces\n",
    "2. In the tweets_df dataframe ('twitter-archive-enhanced.csv') doggo, fluffer, pupper, and puppo are all dog_classes and should be one variable instead of four different variables.\n",
    "3. Separate tweets from retweets and replies.\n",
    "4. Remove columns related to retweets and replies from the tweets data frame.\n",
    "5. Save  merged dataframe in a csv file."
   ]
  },
  {
   "cell_type": "markdown",
   "id": "17d13733",
   "metadata": {},
   "source": [
    "### Data Quality Issues Fix"
   ]
  },
  {
   "cell_type": "markdown",
   "id": "7d3ea60b",
   "metadata": {},
   "source": [
    "##### 1. Define\n",
    "\n",
    "Some of the tweets in the twitter-archive-enhanced.csv file has been deleted and their records could not be gotten using the Twitter API. 'deleted_tweets' contains the ID of tweets that have been deleted. We need to drop these records"
   ]
  },
  {
   "cell_type": "markdown",
   "id": "95775809",
   "metadata": {},
   "source": [
    "##### Code\n"
   ]
  },
  {
   "cell_type": "code",
   "execution_count": 23,
   "id": "1e606084",
   "metadata": {},
   "outputs": [
    {
     "data": {
      "text/plain": [
       "2356"
      ]
     },
     "execution_count": 23,
     "metadata": {},
     "output_type": "execute_result"
    }
   ],
   "source": [
    "len(tweets_df_clean)"
   ]
  },
  {
   "cell_type": "code",
   "execution_count": 24,
   "id": "c3c013ec",
   "metadata": {},
   "outputs": [],
   "source": [
    "tweets_df_clean = tweets_df_clean[~tweets_df_clean['tweet_id'].isin(deleted_tweet_ids)]"
   ]
  },
  {
   "cell_type": "markdown",
   "id": "07a86809",
   "metadata": {},
   "source": [
    "##### Test\n"
   ]
  },
  {
   "cell_type": "code",
   "execution_count": 25,
   "id": "58fe7f99",
   "metadata": {},
   "outputs": [],
   "source": [
    "assert len(tweets_df_clean) == (len(tweets_df)-len(deleted_tweet_ids))"
   ]
  },
  {
   "cell_type": "markdown",
   "id": "f972534d",
   "metadata": {},
   "source": [
    "##### 2. Define\n",
    "\n",
    "Remove trailing ' +0000' from time stamp values"
   ]
  },
  {
   "cell_type": "markdown",
   "id": "554d409f",
   "metadata": {},
   "source": [
    "##### Code"
   ]
  },
  {
   "cell_type": "code",
   "execution_count": 26,
   "id": "9aefec0a",
   "metadata": {},
   "outputs": [],
   "source": [
    "def clean_timestamp(timestamp):\n",
    "    \"\"\"returns the timestamp argument without the last 6 characters\"\"\"\n",
    "    return str(timestamp)[:-5]\n",
    "date_time_cols = ['timestamp', 'retweeted_status_timestamp']\n",
    "for col in date_time_cols:\n",
    "    tweets_df_clean[col] = tweets_df_clean[col].apply(lambda x: clean_timestamp(x))\n",
    "    tweets_df_clean[col] = pd.to_datetime(tweets_df_clean[col])"
   ]
  },
  {
   "cell_type": "markdown",
   "id": "5cf05e98",
   "metadata": {},
   "source": [
    "##### Test"
   ]
  },
  {
   "cell_type": "code",
   "execution_count": 27,
   "id": "2e59d81e",
   "metadata": {},
   "outputs": [
    {
     "data": {
      "text/html": [
       "<div>\n",
       "<style scoped>\n",
       "    .dataframe tbody tr th:only-of-type {\n",
       "        vertical-align: middle;\n",
       "    }\n",
       "\n",
       "    .dataframe tbody tr th {\n",
       "        vertical-align: top;\n",
       "    }\n",
       "\n",
       "    .dataframe thead th {\n",
       "        text-align: right;\n",
       "    }\n",
       "</style>\n",
       "<table border=\"1\" class=\"dataframe\">\n",
       "  <thead>\n",
       "    <tr style=\"text-align: right;\">\n",
       "      <th></th>\n",
       "      <th>timestamp</th>\n",
       "      <th>retweeted_status_timestamp</th>\n",
       "    </tr>\n",
       "  </thead>\n",
       "  <tbody>\n",
       "    <tr>\n",
       "      <th>0</th>\n",
       "      <td>2017-08-01 16:23:56</td>\n",
       "      <td>NaT</td>\n",
       "    </tr>\n",
       "    <tr>\n",
       "      <th>1</th>\n",
       "      <td>2017-08-01 00:17:27</td>\n",
       "      <td>NaT</td>\n",
       "    </tr>\n",
       "    <tr>\n",
       "      <th>2</th>\n",
       "      <td>2017-07-31 00:18:03</td>\n",
       "      <td>NaT</td>\n",
       "    </tr>\n",
       "    <tr>\n",
       "      <th>3</th>\n",
       "      <td>2017-07-30 15:58:51</td>\n",
       "      <td>NaT</td>\n",
       "    </tr>\n",
       "    <tr>\n",
       "      <th>4</th>\n",
       "      <td>2017-07-29 16:00:24</td>\n",
       "      <td>NaT</td>\n",
       "    </tr>\n",
       "    <tr>\n",
       "      <th>...</th>\n",
       "      <td>...</td>\n",
       "      <td>...</td>\n",
       "    </tr>\n",
       "    <tr>\n",
       "      <th>2351</th>\n",
       "      <td>2015-11-16 00:24:50</td>\n",
       "      <td>NaT</td>\n",
       "    </tr>\n",
       "    <tr>\n",
       "      <th>2352</th>\n",
       "      <td>2015-11-16 00:04:52</td>\n",
       "      <td>NaT</td>\n",
       "    </tr>\n",
       "    <tr>\n",
       "      <th>2353</th>\n",
       "      <td>2015-11-15 23:21:54</td>\n",
       "      <td>NaT</td>\n",
       "    </tr>\n",
       "    <tr>\n",
       "      <th>2354</th>\n",
       "      <td>2015-11-15 23:05:30</td>\n",
       "      <td>NaT</td>\n",
       "    </tr>\n",
       "    <tr>\n",
       "      <th>2355</th>\n",
       "      <td>2015-11-15 22:32:08</td>\n",
       "      <td>NaT</td>\n",
       "    </tr>\n",
       "  </tbody>\n",
       "</table>\n",
       "<p>2325 rows × 2 columns</p>\n",
       "</div>"
      ],
      "text/plain": [
       "               timestamp retweeted_status_timestamp\n",
       "0    2017-08-01 16:23:56                        NaT\n",
       "1    2017-08-01 00:17:27                        NaT\n",
       "2    2017-07-31 00:18:03                        NaT\n",
       "3    2017-07-30 15:58:51                        NaT\n",
       "4    2017-07-29 16:00:24                        NaT\n",
       "...                  ...                        ...\n",
       "2351 2015-11-16 00:24:50                        NaT\n",
       "2352 2015-11-16 00:04:52                        NaT\n",
       "2353 2015-11-15 23:21:54                        NaT\n",
       "2354 2015-11-15 23:05:30                        NaT\n",
       "2355 2015-11-15 22:32:08                        NaT\n",
       "\n",
       "[2325 rows x 2 columns]"
      ]
     },
     "execution_count": 27,
     "metadata": {},
     "output_type": "execute_result"
    }
   ],
   "source": [
    "tweets_df_clean[date_time_cols]"
   ]
  },
  {
   "cell_type": "code",
   "execution_count": 28,
   "id": "6f3fe898",
   "metadata": {},
   "outputs": [
    {
     "data": {
      "text/plain": [
       "timestamp                     datetime64[ns]\n",
       "retweeted_status_timestamp    datetime64[ns]\n",
       "dtype: object"
      ]
     },
     "execution_count": 28,
     "metadata": {},
     "output_type": "execute_result"
    }
   ],
   "source": [
    "tweets_df_clean[date_time_cols].dtypes"
   ]
  },
  {
   "cell_type": "markdown",
   "id": "0d0149e6",
   "metadata": {},
   "source": [
    "##### 3. Define\n",
    "\n",
    "The following features have inapproriate datatypes\n",
    "1. tweet_id - Should be converted to object datatype\n",
    "2. time_stamp - Should be converted to datetime datatype. "
   ]
  },
  {
   "cell_type": "markdown",
   "id": "36a1ccce",
   "metadata": {},
   "source": [
    "##### Code"
   ]
  },
  {
   "cell_type": "code",
   "execution_count": 29,
   "id": "d098f7a2",
   "metadata": {},
   "outputs": [],
   "source": [
    "tweets_df_clean.tweet_id = tweets_df_clean.tweet_id.astype('str')\n",
    "tweets_data_clean.tweet_id = tweets_data_clean.tweet_id.astype('str')\n",
    "images_df_clean.tweet_id = images_df_clean.tweet_id.astype('str')"
   ]
  },
  {
   "cell_type": "markdown",
   "id": "e81143f8",
   "metadata": {},
   "source": [
    "##### Test"
   ]
  },
  {
   "cell_type": "code",
   "execution_count": 30,
   "id": "60d3624e",
   "metadata": {},
   "outputs": [
    {
     "data": {
      "text/plain": [
       "(dtype('O'), dtype('O'), dtype('O'))"
      ]
     },
     "execution_count": 30,
     "metadata": {},
     "output_type": "execute_result"
    }
   ],
   "source": [
    "tweets_df_clean.tweet_id.dtype, tweets_data_clean.tweet_id.dtype, images_df_clean.tweet_id.dtype"
   ]
  },
  {
   "cell_type": "markdown",
   "id": "85b046c5",
   "metadata": {},
   "source": [
    "##### 4. Define\n",
    "The source text contains the source-url between html tags. We can clean up this column by extracting the url from the full text"
   ]
  },
  {
   "cell_type": "markdown",
   "id": "10fea6b8",
   "metadata": {},
   "source": [
    "##### Code"
   ]
  },
  {
   "cell_type": "code",
   "execution_count": 31,
   "id": "77f5f5cf",
   "metadata": {},
   "outputs": [],
   "source": [
    "def clean_source(source):\n",
    "    \"\"\"extracts the text after the second quotation mark\"\"\"\n",
    "    return source.split('\"')[1]\n",
    "tweets_df_clean['source'] = tweets_df_clean['source'].apply(lambda x: clean_source(x))"
   ]
  },
  {
   "cell_type": "markdown",
   "id": "ab0712db",
   "metadata": {},
   "source": [
    "##### Test"
   ]
  },
  {
   "cell_type": "code",
   "execution_count": 32,
   "id": "0427d447",
   "metadata": {},
   "outputs": [
    {
     "data": {
      "text/plain": [
       "http://twitter.com/download/iphone              2191\n",
       "http://vine.co                                    91\n",
       "http://twitter.com                                33\n",
       "https://about.twitter.com/products/tweetdeck      10\n",
       "Name: source, dtype: int64"
      ]
     },
     "execution_count": 32,
     "metadata": {},
     "output_type": "execute_result"
    }
   ],
   "source": [
    "tweets_df_clean.source.value_counts()"
   ]
  },
  {
   "cell_type": "markdown",
   "id": "17210104",
   "metadata": {},
   "source": [
    "##### 5. Define\n",
    "Drop records in the tweets_df that don't have images"
   ]
  },
  {
   "cell_type": "markdown",
   "id": "01f37fbd",
   "metadata": {},
   "source": [
    "##### Code"
   ]
  },
  {
   "cell_type": "code",
   "execution_count": 33,
   "id": "b78579b8",
   "metadata": {},
   "outputs": [
    {
     "data": {
      "text/plain": [
       "269"
      ]
     },
     "execution_count": 33,
     "metadata": {},
     "output_type": "execute_result"
    }
   ],
   "source": [
    "images_df_clean_ids = images_df_clean.tweet_id.values.tolist()\n",
    "len(tweets_df_clean[~tweets_df_clean.tweet_id.isin(images_df_clean_ids)])"
   ]
  },
  {
   "cell_type": "markdown",
   "id": "2edef750",
   "metadata": {},
   "source": [
    "There are  x records in tweets_df_clean that do not images "
   ]
  },
  {
   "cell_type": "code",
   "execution_count": 34,
   "id": "ea2c7feb",
   "metadata": {},
   "outputs": [],
   "source": [
    "tweets_df_clean = tweets_df_clean[tweets_df_clean['tweet_id'].isin(images_df_clean_ids)]"
   ]
  },
  {
   "cell_type": "markdown",
   "id": "8ece40b2",
   "metadata": {},
   "source": [
    "##### Test"
   ]
  },
  {
   "cell_type": "code",
   "execution_count": 35,
   "id": "2203f26a",
   "metadata": {},
   "outputs": [
    {
     "data": {
      "text/plain": [
       "0"
      ]
     },
     "execution_count": 35,
     "metadata": {},
     "output_type": "execute_result"
    }
   ],
   "source": [
    "len(tweets_df_clean[~tweets_df_clean.tweet_id.isin(images_df_clean_ids)])"
   ]
  },
  {
   "cell_type": "markdown",
   "id": "5751b991",
   "metadata": {},
   "source": [
    "##### 6. Define\n",
    "Replace 'None' and invalid name entries in the name column with np.nan.\n",
    "The invalid names start with lower case "
   ]
  },
  {
   "cell_type": "markdown",
   "id": "728f5457",
   "metadata": {},
   "source": [
    "##### Code"
   ]
  },
  {
   "cell_type": "code",
   "execution_count": 36,
   "id": "9f6d5b08",
   "metadata": {},
   "outputs": [],
   "source": [
    "invalid_names = set([name for name in tweets_df_clean['name'].values.tolist() if name[0].islower()])"
   ]
  },
  {
   "cell_type": "code",
   "execution_count": 37,
   "id": "e3598dd3",
   "metadata": {},
   "outputs": [
    {
     "data": {
      "text/plain": [
       "{'a',\n",
       " 'actually',\n",
       " 'all',\n",
       " 'an',\n",
       " 'by',\n",
       " 'getting',\n",
       " 'his',\n",
       " 'incredibly',\n",
       " 'infuriating',\n",
       " 'just',\n",
       " 'light',\n",
       " 'my',\n",
       " 'not',\n",
       " 'officially',\n",
       " 'one',\n",
       " 'quite',\n",
       " 'space',\n",
       " 'such',\n",
       " 'the',\n",
       " 'this',\n",
       " 'unacceptable',\n",
       " 'very'}"
      ]
     },
     "execution_count": 37,
     "metadata": {},
     "output_type": "execute_result"
    }
   ],
   "source": [
    "invalid_names"
   ]
  },
  {
   "cell_type": "markdown",
   "id": "095e2943",
   "metadata": {},
   "source": [
    "Add 'None' to be invalid names "
   ]
  },
  {
   "cell_type": "code",
   "execution_count": 38,
   "id": "d8a4a792",
   "metadata": {},
   "outputs": [],
   "source": [
    "invalid_names.add('None')"
   ]
  },
  {
   "cell_type": "code",
   "execution_count": 39,
   "id": "816321b6",
   "metadata": {},
   "outputs": [
    {
     "data": {
      "text/plain": [
       "{'None',\n",
       " 'a',\n",
       " 'actually',\n",
       " 'all',\n",
       " 'an',\n",
       " 'by',\n",
       " 'getting',\n",
       " 'his',\n",
       " 'incredibly',\n",
       " 'infuriating',\n",
       " 'just',\n",
       " 'light',\n",
       " 'my',\n",
       " 'not',\n",
       " 'officially',\n",
       " 'one',\n",
       " 'quite',\n",
       " 'space',\n",
       " 'such',\n",
       " 'the',\n",
       " 'this',\n",
       " 'unacceptable',\n",
       " 'very'}"
      ]
     },
     "execution_count": 39,
     "metadata": {},
     "output_type": "execute_result"
    }
   ],
   "source": [
    "invalid_names"
   ]
  },
  {
   "cell_type": "code",
   "execution_count": 40,
   "id": "b6a7db6f",
   "metadata": {},
   "outputs": [
    {
     "data": {
      "text/plain": [
       "671"
      ]
     },
     "execution_count": 40,
     "metadata": {},
     "output_type": "execute_result"
    }
   ],
   "source": [
    "len(tweets_df_clean[tweets_df_clean['name'].isin(invalid_names)])"
   ]
  },
  {
   "cell_type": "markdown",
   "id": "eb52d750",
   "metadata": {},
   "source": [
    "There are 671 rows with invalid dog names"
   ]
  },
  {
   "cell_type": "code",
   "execution_count": 41,
   "id": "f88dff41",
   "metadata": {},
   "outputs": [],
   "source": [
    "tweets_df_clean['name'].replace(dict.fromkeys(list(invalid_names),np.nan), inplace=True)"
   ]
  },
  {
   "cell_type": "markdown",
   "id": "03c877ad",
   "metadata": {},
   "source": [
    "##### Test"
   ]
  },
  {
   "cell_type": "code",
   "execution_count": 42,
   "id": "ad666aee",
   "metadata": {},
   "outputs": [
    {
     "data": {
      "text/plain": [
       "0"
      ]
     },
     "execution_count": 42,
     "metadata": {},
     "output_type": "execute_result"
    }
   ],
   "source": [
    "len(tweets_df_clean[tweets_df_clean['name'].isin(invalid_names)])"
   ]
  },
  {
   "cell_type": "markdown",
   "id": "9e425a68",
   "metadata": {},
   "source": [
    "##### 7. Define\n",
    "\n",
    "Extract the correct rating_numerator using regular expressions. Some of the rating numerator have float values so I would have to change the datatype of that column to float first"
   ]
  },
  {
   "cell_type": "markdown",
   "id": "275ddca6",
   "metadata": {},
   "source": [
    "##### Code"
   ]
  },
  {
   "cell_type": "code",
   "execution_count": 43,
   "id": "6862589c",
   "metadata": {},
   "outputs": [],
   "source": [
    "tweets_df_clean.rating_numerator = tweets_df_clean.rating_numerator.astype('float')"
   ]
  },
  {
   "cell_type": "code",
   "execution_count": 44,
   "id": "86bffbd0",
   "metadata": {},
   "outputs": [
    {
     "name": "stderr",
     "output_type": "stream",
     "text": [
      "/var/folders/67/z7st7hwd1jnbqqwxk1d73wqc0000gn/T/ipykernel_13627/2887567782.py:1: UserWarning: This pattern is interpreted as a regular expression, and has match groups. To actually get the groups, use str.extract.\n",
      "  len(tweets_df_clean[tweets_df_clean.text.str.contains(r\"(\\d+\\.\\d*\\/\\d+)\")])\n"
     ]
    },
    {
     "data": {
      "text/plain": [
       "4"
      ]
     },
     "execution_count": 44,
     "metadata": {},
     "output_type": "execute_result"
    }
   ],
   "source": [
    "len(tweets_df_clean[tweets_df_clean.text.str.contains(r\"(\\d+\\.\\d*\\/\\d+)\")])"
   ]
  },
  {
   "cell_type": "code",
   "execution_count": 45,
   "id": "56e5a83f",
   "metadata": {
    "scrolled": false
   },
   "outputs": [
    {
     "name": "stderr",
     "output_type": "stream",
     "text": [
      "/var/folders/67/z7st7hwd1jnbqqwxk1d73wqc0000gn/T/ipykernel_13627/2451684000.py:1: UserWarning: This pattern is interpreted as a regular expression, and has match groups. To actually get the groups, use str.extract.\n",
      "  tweets_df_clean[tweets_df_clean.text.str.contains(r\"(\\d+\\.\\d*\\/\\d+)\")][['text','rating_numerator']]\n"
     ]
    },
    {
     "data": {
      "text/html": [
       "<div>\n",
       "<style scoped>\n",
       "    .dataframe tbody tr th:only-of-type {\n",
       "        vertical-align: middle;\n",
       "    }\n",
       "\n",
       "    .dataframe tbody tr th {\n",
       "        vertical-align: top;\n",
       "    }\n",
       "\n",
       "    .dataframe thead th {\n",
       "        text-align: right;\n",
       "    }\n",
       "</style>\n",
       "<table border=\"1\" class=\"dataframe\">\n",
       "  <thead>\n",
       "    <tr style=\"text-align: right;\">\n",
       "      <th></th>\n",
       "      <th>text</th>\n",
       "      <th>rating_numerator</th>\n",
       "    </tr>\n",
       "  </thead>\n",
       "  <tbody>\n",
       "    <tr>\n",
       "      <th>45</th>\n",
       "      <td>This is Bella. She hopes her smile made you sm...</td>\n",
       "      <td>5.0</td>\n",
       "    </tr>\n",
       "    <tr>\n",
       "      <th>695</th>\n",
       "      <td>This is Logan, the Chow who lived. He solemnly...</td>\n",
       "      <td>75.0</td>\n",
       "    </tr>\n",
       "    <tr>\n",
       "      <th>763</th>\n",
       "      <td>This is Sophie. She's a Jubilant Bush Pupper. ...</td>\n",
       "      <td>27.0</td>\n",
       "    </tr>\n",
       "    <tr>\n",
       "      <th>1712</th>\n",
       "      <td>Here we have uncovered an entire battalion of ...</td>\n",
       "      <td>26.0</td>\n",
       "    </tr>\n",
       "  </tbody>\n",
       "</table>\n",
       "</div>"
      ],
      "text/plain": [
       "                                                   text  rating_numerator\n",
       "45    This is Bella. She hopes her smile made you sm...               5.0\n",
       "695   This is Logan, the Chow who lived. He solemnly...              75.0\n",
       "763   This is Sophie. She's a Jubilant Bush Pupper. ...              27.0\n",
       "1712  Here we have uncovered an entire battalion of ...              26.0"
      ]
     },
     "execution_count": 45,
     "metadata": {},
     "output_type": "execute_result"
    }
   ],
   "source": [
    "tweets_df_clean[tweets_df_clean.text.str.contains(r\"(\\d+\\.\\d*\\/\\d+)\")][['text','rating_numerator']]"
   ]
  },
  {
   "cell_type": "markdown",
   "id": "2389bcf6",
   "metadata": {},
   "source": [
    "Let'show the actual values in those records"
   ]
  },
  {
   "cell_type": "code",
   "execution_count": 46,
   "id": "fe2d55bb",
   "metadata": {},
   "outputs": [
    {
     "name": "stdout",
     "output_type": "stream",
     "text": [
      "[13.5, 9.75, 11.27, 11.26]\n"
     ]
    },
    {
     "name": "stderr",
     "output_type": "stream",
     "text": [
      "/var/folders/67/z7st7hwd1jnbqqwxk1d73wqc0000gn/T/ipykernel_13627/1175378890.py:9: UserWarning: This pattern is interpreted as a regular expression, and has match groups. To actually get the groups, use str.extract.\n",
      "  for text in tweets_df_clean[tweets_df_clean.text.str.contains(pattern)]['text'].values.tolist():\n"
     ]
    }
   ],
   "source": [
    "import re\n",
    "pattern = r\"(\\d+\\.\\d*\\/\\d+)\"\n",
    "def extract_correct_numerator(text):\n",
    "    matches = re.finditer(pattern, text)\n",
    "    for match in matches:\n",
    "        correct_value = (match.group().split('/')[0])\n",
    "        return(float(correct_value))\n",
    "correct_values = []\n",
    "for text in tweets_df_clean[tweets_df_clean.text.str.contains(pattern)]['text'].values.tolist():\n",
    "    correct_value = extract_correct_numerator(text)\n",
    "    correct_values.append(correct_value)\n",
    "print(correct_values)"
   ]
  },
  {
   "cell_type": "markdown",
   "id": "0bb1c4fb",
   "metadata": {},
   "source": [
    "Replace the rating_numerator with the correct value"
   ]
  },
  {
   "cell_type": "code",
   "execution_count": 47,
   "id": "cb95f97b",
   "metadata": {},
   "outputs": [
    {
     "name": "stderr",
     "output_type": "stream",
     "text": [
      "/var/folders/67/z7st7hwd1jnbqqwxk1d73wqc0000gn/T/ipykernel_13627/1327260957.py:1: UserWarning: This pattern is interpreted as a regular expression, and has match groups. To actually get the groups, use str.extract.\n",
      "  tweets_df_clean['rating_numerator'][tweets_df_clean.text.str.contains(pattern)] = correct_values\n",
      "/var/folders/67/z7st7hwd1jnbqqwxk1d73wqc0000gn/T/ipykernel_13627/1327260957.py:1: SettingWithCopyWarning: \n",
      "A value is trying to be set on a copy of a slice from a DataFrame\n",
      "\n",
      "See the caveats in the documentation: https://pandas.pydata.org/pandas-docs/stable/user_guide/indexing.html#returning-a-view-versus-a-copy\n",
      "  tweets_df_clean['rating_numerator'][tweets_df_clean.text.str.contains(pattern)] = correct_values\n"
     ]
    }
   ],
   "source": [
    "tweets_df_clean['rating_numerator'][tweets_df_clean.text.str.contains(pattern)] = correct_values"
   ]
  },
  {
   "cell_type": "markdown",
   "id": "61747531",
   "metadata": {},
   "source": [
    "##### Test"
   ]
  },
  {
   "cell_type": "code",
   "execution_count": 48,
   "id": "824c1c81",
   "metadata": {},
   "outputs": [
    {
     "name": "stderr",
     "output_type": "stream",
     "text": [
      "/var/folders/67/z7st7hwd1jnbqqwxk1d73wqc0000gn/T/ipykernel_13627/378283277.py:1: UserWarning: This pattern is interpreted as a regular expression, and has match groups. To actually get the groups, use str.extract.\n",
      "  tweets_df_clean[tweets_df_clean.text.str.contains(pattern)][['text','rating_numerator']]\n"
     ]
    },
    {
     "data": {
      "text/html": [
       "<div>\n",
       "<style scoped>\n",
       "    .dataframe tbody tr th:only-of-type {\n",
       "        vertical-align: middle;\n",
       "    }\n",
       "\n",
       "    .dataframe tbody tr th {\n",
       "        vertical-align: top;\n",
       "    }\n",
       "\n",
       "    .dataframe thead th {\n",
       "        text-align: right;\n",
       "    }\n",
       "</style>\n",
       "<table border=\"1\" class=\"dataframe\">\n",
       "  <thead>\n",
       "    <tr style=\"text-align: right;\">\n",
       "      <th></th>\n",
       "      <th>text</th>\n",
       "      <th>rating_numerator</th>\n",
       "    </tr>\n",
       "  </thead>\n",
       "  <tbody>\n",
       "    <tr>\n",
       "      <th>45</th>\n",
       "      <td>This is Bella. She hopes her smile made you sm...</td>\n",
       "      <td>13.50</td>\n",
       "    </tr>\n",
       "    <tr>\n",
       "      <th>695</th>\n",
       "      <td>This is Logan, the Chow who lived. He solemnly...</td>\n",
       "      <td>9.75</td>\n",
       "    </tr>\n",
       "    <tr>\n",
       "      <th>763</th>\n",
       "      <td>This is Sophie. She's a Jubilant Bush Pupper. ...</td>\n",
       "      <td>11.27</td>\n",
       "    </tr>\n",
       "    <tr>\n",
       "      <th>1712</th>\n",
       "      <td>Here we have uncovered an entire battalion of ...</td>\n",
       "      <td>11.26</td>\n",
       "    </tr>\n",
       "  </tbody>\n",
       "</table>\n",
       "</div>"
      ],
      "text/plain": [
       "                                                   text  rating_numerator\n",
       "45    This is Bella. She hopes her smile made you sm...             13.50\n",
       "695   This is Logan, the Chow who lived. He solemnly...              9.75\n",
       "763   This is Sophie. She's a Jubilant Bush Pupper. ...             11.27\n",
       "1712  Here we have uncovered an entire battalion of ...             11.26"
      ]
     },
     "execution_count": 48,
     "metadata": {},
     "output_type": "execute_result"
    }
   ],
   "source": [
    "tweets_df_clean[tweets_df_clean.text.str.contains(pattern)][['text','rating_numerator']]"
   ]
  },
  {
   "cell_type": "markdown",
   "id": "8e880c93",
   "metadata": {},
   "source": [
    "#### 8. Define\n",
    "The following columns contain IDs and their datatypes should be changed to object.\n",
    "- retweeted_status_id\n",
    "- retweeted_status_user_id\n",
    "- in_reply_to_user_id\n",
    "- in_reply_to_status_id\n"
   ]
  },
  {
   "cell_type": "markdown",
   "id": "84d73da0",
   "metadata": {},
   "source": [
    "##### Code"
   ]
  },
  {
   "cell_type": "code",
   "execution_count": 49,
   "id": "e59c7c11",
   "metadata": {},
   "outputs": [],
   "source": [
    "tweets_df_clean.retweeted_status_id = tweets_df_clean.retweeted_status_id.astype('str')\n",
    "tweets_df_clean.retweeted_status_user_id = tweets_df_clean.retweeted_status_user_id.astype('str')\n",
    "tweets_df_clean.in_reply_to_user_id = tweets_df_clean.in_reply_to_user_id.astype('str')\n",
    "tweets_df_clean.in_reply_to_status_id = tweets_df_clean.in_reply_to_user_id.astype('str')"
   ]
  },
  {
   "cell_type": "markdown",
   "id": "3963c596",
   "metadata": {},
   "source": [
    "#### Test"
   ]
  },
  {
   "cell_type": "code",
   "execution_count": 50,
   "id": "65616c07",
   "metadata": {},
   "outputs": [
    {
     "name": "stdout",
     "output_type": "stream",
     "text": [
      "<class 'pandas.core.frame.DataFrame'>\n",
      "Int64Index: 2056 entries, 0 to 2355\n",
      "Data columns (total 17 columns):\n",
      " #   Column                      Non-Null Count  Dtype         \n",
      "---  ------                      --------------  -----         \n",
      " 0   tweet_id                    2056 non-null   object        \n",
      " 1   in_reply_to_status_id       2056 non-null   object        \n",
      " 2   in_reply_to_user_id         2056 non-null   object        \n",
      " 3   timestamp                   2056 non-null   datetime64[ns]\n",
      " 4   source                      2056 non-null   object        \n",
      " 5   text                        2056 non-null   object        \n",
      " 6   retweeted_status_id         2056 non-null   object        \n",
      " 7   retweeted_status_user_id    2056 non-null   object        \n",
      " 8   retweeted_status_timestamp  71 non-null     datetime64[ns]\n",
      " 9   expanded_urls               2056 non-null   object        \n",
      " 10  rating_numerator            2056 non-null   float64       \n",
      " 11  rating_denominator          2056 non-null   int64         \n",
      " 12  name                        1385 non-null   object        \n",
      " 13  doggo                       2056 non-null   object        \n",
      " 14  floofer                     2056 non-null   object        \n",
      " 15  pupper                      2056 non-null   object        \n",
      " 16  puppo                       2056 non-null   object        \n",
      "dtypes: datetime64[ns](2), float64(1), int64(1), object(13)\n",
      "memory usage: 289.1+ KB\n"
     ]
    }
   ],
   "source": [
    "tweets_df_clean.info()"
   ]
  },
  {
   "cell_type": "markdown",
   "id": "ea04e365",
   "metadata": {},
   "source": [
    "### Data Tidiness Issues Fix"
   ]
  },
  {
   "cell_type": "markdown",
   "id": "e563002f",
   "metadata": {},
   "source": [
    "##### 1. Define\n",
    "The columns for retweets count and favorite counts have a leading white space. This will be fixed by reassigning a list to the dataframe's columms attribute."
   ]
  },
  {
   "cell_type": "markdown",
   "id": "78ddc499",
   "metadata": {},
   "source": [
    "##### Code"
   ]
  },
  {
   "cell_type": "code",
   "execution_count": 51,
   "id": "da2cac83",
   "metadata": {},
   "outputs": [],
   "source": [
    "tweets_data_clean.rename(columns={' favorite_count':'favorite_count',' retweet_count':'retweet_count'}, \n",
    "                   inplace=True)"
   ]
  },
  {
   "cell_type": "markdown",
   "id": "9b05ed4a",
   "metadata": {},
   "source": [
    "##### Test"
   ]
  },
  {
   "cell_type": "code",
   "execution_count": 52,
   "id": "e8fa72d3",
   "metadata": {},
   "outputs": [
    {
     "data": {
      "text/plain": [
       "Index(['tweet_id', 'favorite_count', 'retweet_count'], dtype='object')"
      ]
     },
     "execution_count": 52,
     "metadata": {},
     "output_type": "execute_result"
    }
   ],
   "source": [
    "tweets_data_clean.columns"
   ]
  },
  {
   "cell_type": "markdown",
   "id": "4db92fa6",
   "metadata": {},
   "source": [
    "##### 2. Define\n",
    "In the tweets_df dataframe doggo, fluffer, pupper, and puppo are all dog classes and should be one variable (dog_class) instead of four different variables. To fix this we do the following;\n",
    "\n",
    "1. For every record in the dataset, map the value in the column to 0 if the dog in that record doesn't belong to the class being considered, if the dog belongs to the class, map the value in column to 1.\n",
    "2. Create a new column titled no_class for records that belong to none of the dog classes. If the dog belongs to a class, the value for this column 0, otherwise 1.\n",
    "3. Create a new column titled multiple. If the sum of the values of each dog class is greater than one then it means the dog has two dog classes, its value is set to 2, else it is set to 0."
   ]
  },
  {
   "cell_type": "markdown",
   "id": "251b23a2",
   "metadata": {},
   "source": [
    "##### Code"
   ]
  },
  {
   "cell_type": "code",
   "execution_count": 53,
   "id": "836999b8",
   "metadata": {},
   "outputs": [
    {
     "name": "stdout",
     "output_type": "stream",
     "text": [
      "success\n",
      "success\n"
     ]
    }
   ],
   "source": [
    "dog_classes = ['doggo', 'floofer', 'pupper', 'puppo']\n",
    "for dog_class in dog_classes:\n",
    "    tweets_df_clean[dog_class].replace({\"None\":0,dog_class:1},inplace=True)\n",
    "    \n",
    "no_class = []\n",
    "multiple_class = []\n",
    "for index,row in tweets_df_clean.iterrows():\n",
    "    if row['doggo']==0 & row['floofer']==0 & row['pupper']==0 & row['puppo']==0:\n",
    "        no_class.append(1)\n",
    "    else:\n",
    "        no_class.append(0)\n",
    "for index,row in tweets_df_clean.iterrows():\n",
    "    if (row['doggo'] + row['floofer'] + row['pupper'] + row['puppo'])>1:\n",
    "        multiple_class.append(2)\n",
    "    else:\n",
    "        multiple_class.append(0)\n",
    "assert len(no_class)==len(tweets_df_clean)\n",
    "print('success')\n",
    "tweets_df_clean['no_class'] = no_class\n",
    "assert len(multiple_class)==len(tweets_df_clean)\n",
    "print('success')\n",
    "tweets_df_clean['multiple'] = multiple_class"
   ]
  },
  {
   "cell_type": "code",
   "execution_count": 54,
   "id": "48a6518a",
   "metadata": {},
   "outputs": [],
   "source": [
    "updated_dog_classes = ['doggo', 'floofer', 'pupper', 'puppo', 'no_class','multiple']\n",
    "dog_classes_df = tweets_df_clean[updated_dog_classes]\n",
    "tweets_df_clean['dog_class'] = dog_classes_df.idxmax(axis=1)"
   ]
  },
  {
   "cell_type": "markdown",
   "id": "3e40ed49",
   "metadata": {},
   "source": [
    "Drop the columns in the list below\n",
    "['doggo', 'floofer', 'pupper', 'puppo', 'no_class']"
   ]
  },
  {
   "cell_type": "code",
   "execution_count": 55,
   "id": "7444b422",
   "metadata": {},
   "outputs": [],
   "source": [
    "tweets_df_clean.drop(columns=updated_dog_classes, inplace=True)\n",
    "tweets_df_clean.dog_class.replace('no_class',np.nan,inplace=True)"
   ]
  },
  {
   "cell_type": "markdown",
   "id": "445f1f72",
   "metadata": {},
   "source": [
    "##### Test"
   ]
  },
  {
   "cell_type": "code",
   "execution_count": 56,
   "id": "02caf0d9",
   "metadata": {},
   "outputs": [
    {
     "data": {
      "text/plain": [
       "pupper      210\n",
       "doggo        65\n",
       "puppo        23\n",
       "multiple     13\n",
       "floofer       7\n",
       "Name: dog_class, dtype: int64"
      ]
     },
     "execution_count": 56,
     "metadata": {},
     "output_type": "execute_result"
    }
   ],
   "source": [
    "tweets_df_clean.dog_class.value_counts()"
   ]
  },
  {
   "cell_type": "markdown",
   "id": "6629b798",
   "metadata": {},
   "source": [
    "##### 3. Define\n",
    "\n",
    "Megre all three dataframes together on tweet_id\n"
   ]
  },
  {
   "cell_type": "markdown",
   "id": "1153360b",
   "metadata": {},
   "source": [
    "##### Code"
   ]
  },
  {
   "cell_type": "code",
   "execution_count": 57,
   "id": "359cbc0f",
   "metadata": {},
   "outputs": [],
   "source": [
    "dataframes = [tweets_df_clean, tweets_data_clean, images_df_clean]\n",
    "import functools as ft\n",
    "tweets_df_merged = ft.reduce(lambda left, right: pd.merge(left, right, on='tweet_id'), dataframes)"
   ]
  },
  {
   "cell_type": "markdown",
   "id": "3ed5f301",
   "metadata": {},
   "source": [
    "##### Test"
   ]
  },
  {
   "cell_type": "code",
   "execution_count": 58,
   "id": "84c0083f",
   "metadata": {
    "scrolled": true
   },
   "outputs": [
    {
     "data": {
      "text/plain": [
       "Index(['tweet_id', 'in_reply_to_status_id', 'in_reply_to_user_id', 'timestamp',\n",
       "       'source', 'text', 'retweeted_status_id', 'retweeted_status_user_id',\n",
       "       'retweeted_status_timestamp', 'expanded_urls', 'rating_numerator',\n",
       "       'rating_denominator', 'name', 'dog_class', 'favorite_count',\n",
       "       'retweet_count', 'jpg_url', 'img_num', 'p1', 'p1_conf', 'p1_dog', 'p2',\n",
       "       'p2_conf', 'p2_dog', 'p3', 'p3_conf', 'p3_dog'],\n",
       "      dtype='object')"
      ]
     },
     "execution_count": 58,
     "metadata": {},
     "output_type": "execute_result"
    }
   ],
   "source": [
    "tweets_df_merged.columns"
   ]
  },
  {
   "cell_type": "code",
   "execution_count": 59,
   "id": "464ba66f",
   "metadata": {
    "scrolled": true
   },
   "outputs": [
    {
     "name": "stdout",
     "output_type": "stream",
     "text": [
      "<class 'pandas.core.frame.DataFrame'>\n",
      "Int64Index: 2056 entries, 0 to 2055\n",
      "Data columns (total 27 columns):\n",
      " #   Column                      Non-Null Count  Dtype         \n",
      "---  ------                      --------------  -----         \n",
      " 0   tweet_id                    2056 non-null   object        \n",
      " 1   in_reply_to_status_id       2056 non-null   object        \n",
      " 2   in_reply_to_user_id         2056 non-null   object        \n",
      " 3   timestamp                   2056 non-null   datetime64[ns]\n",
      " 4   source                      2056 non-null   object        \n",
      " 5   text                        2056 non-null   object        \n",
      " 6   retweeted_status_id         2056 non-null   object        \n",
      " 7   retweeted_status_user_id    2056 non-null   object        \n",
      " 8   retweeted_status_timestamp  71 non-null     datetime64[ns]\n",
      " 9   expanded_urls               2056 non-null   object        \n",
      " 10  rating_numerator            2056 non-null   float64       \n",
      " 11  rating_denominator          2056 non-null   int64         \n",
      " 12  name                        1385 non-null   object        \n",
      " 13  dog_class                   318 non-null    object        \n",
      " 14  favorite_count              2056 non-null   int64         \n",
      " 15  retweet_count               2056 non-null   int64         \n",
      " 16  jpg_url                     2056 non-null   object        \n",
      " 17  img_num                     2056 non-null   int64         \n",
      " 18  p1                          2056 non-null   object        \n",
      " 19  p1_conf                     2056 non-null   float64       \n",
      " 20  p1_dog                      2056 non-null   bool          \n",
      " 21  p2                          2056 non-null   object        \n",
      " 22  p2_conf                     2056 non-null   float64       \n",
      " 23  p2_dog                      2056 non-null   bool          \n",
      " 24  p3                          2056 non-null   object        \n",
      " 25  p3_conf                     2056 non-null   float64       \n",
      " 26  p3_dog                      2056 non-null   bool          \n",
      "dtypes: bool(3), datetime64[ns](2), float64(4), int64(4), object(14)\n",
      "memory usage: 407.6+ KB\n"
     ]
    }
   ],
   "source": [
    "tweets_df_merged.info()"
   ]
  },
  {
   "cell_type": "markdown",
   "id": "d6b72c70",
   "metadata": {},
   "source": [
    "##### 4. Define\n",
    "Extract records containing only tweets. \n",
    "Also, it should be noted that tweets without images and tweets that could not be pulled from Twitter's API will not be shown here since they were dropped in the data quality section"
   ]
  },
  {
   "cell_type": "markdown",
   "id": "db56247c",
   "metadata": {},
   "source": [
    "##### Code"
   ]
  },
  {
   "cell_type": "code",
   "execution_count": 60,
   "id": "31414c26",
   "metadata": {},
   "outputs": [
    {
     "name": "stdout",
     "output_type": "stream",
     "text": [
      "Count of tweets_only_df: 1962\n"
     ]
    }
   ],
   "source": [
    "tweets_only_df = tweets_df_clean[(tweets_df_clean['in_reply_to_status_id'] == 'nan')& (tweets_df_clean['retweeted_status_id']=='nan')]\n",
    "print('Count of tweets_only_df: %d'%(len(tweets_only_df)))"
   ]
  },
  {
   "cell_type": "markdown",
   "id": "8944e17a",
   "metadata": {},
   "source": [
    "##### Test"
   ]
  },
  {
   "cell_type": "code",
   "execution_count": 61,
   "id": "699c0913",
   "metadata": {},
   "outputs": [
    {
     "data": {
      "text/plain": [
       "0"
      ]
     },
     "execution_count": 61,
     "metadata": {},
     "output_type": "execute_result"
    }
   ],
   "source": [
    "len(tweets_only_df.loc[(tweets_only_df['in_reply_to_status_id']!='nan') | (tweets_only_df['retweeted_status_id']!='nan')])"
   ]
  },
  {
   "cell_type": "markdown",
   "id": "e9c7011e",
   "metadata": {},
   "source": [
    "##### 5. Define\n",
    "\n",
    "Remove columns related to retweets and replies from the tweets_df_only dataframe\n"
   ]
  },
  {
   "cell_type": "markdown",
   "id": "e07f87ed",
   "metadata": {},
   "source": [
    "##### Code"
   ]
  },
  {
   "cell_type": "code",
   "execution_count": 62,
   "id": "21537509",
   "metadata": {
    "scrolled": true
   },
   "outputs": [
    {
     "name": "stderr",
     "output_type": "stream",
     "text": [
      "/var/folders/67/z7st7hwd1jnbqqwxk1d73wqc0000gn/T/ipykernel_13627/675219050.py:6: SettingWithCopyWarning: \n",
      "A value is trying to be set on a copy of a slice from a DataFrame\n",
      "\n",
      "See the caveats in the documentation: https://pandas.pydata.org/pandas-docs/stable/user_guide/indexing.html#returning-a-view-versus-a-copy\n",
      "  tweets_only_df.drop(columns=cols_to_drop_in_tweets, inplace=True)\n"
     ]
    }
   ],
   "source": [
    "cols_to_drop_in_tweets = ['in_reply_to_status_id',\n",
    "                          'in_reply_to_user_id',\n",
    "                          'retweeted_status_id',\n",
    "                          'retweeted_status_user_id',\n",
    "                          'retweeted_status_timestamp']\n",
    "tweets_only_df.drop(columns=cols_to_drop_in_tweets, inplace=True)"
   ]
  },
  {
   "cell_type": "markdown",
   "id": "650df6f8",
   "metadata": {},
   "source": [
    "##### Test"
   ]
  },
  {
   "cell_type": "code",
   "execution_count": 63,
   "id": "a528ed05",
   "metadata": {},
   "outputs": [
    {
     "data": {
      "text/plain": [
       "Index(['tweet_id', 'timestamp', 'source', 'text', 'expanded_urls',\n",
       "       'rating_numerator', 'rating_denominator', 'name', 'dog_class'],\n",
       "      dtype='object')"
      ]
     },
     "execution_count": 63,
     "metadata": {},
     "output_type": "execute_result"
    }
   ],
   "source": [
    "tweets_only_df.columns"
   ]
  },
  {
   "cell_type": "markdown",
   "id": "47b6ab5f",
   "metadata": {},
   "source": [
    "##### 6. Define\n",
    "\n",
    "Save merged dataframe to 'twitter_archive_master.csv'"
   ]
  },
  {
   "cell_type": "markdown",
   "id": "386eb0ca",
   "metadata": {},
   "source": [
    "##### Code"
   ]
  },
  {
   "cell_type": "code",
   "execution_count": 64,
   "id": "b484c0be",
   "metadata": {},
   "outputs": [],
   "source": [
    "tweets_df_merged.to_csv('/Users/orukotanoluwatobiloba/Downloads/Udacity/WeRateDogs/twitter_archive_master.csv', index=False)"
   ]
  },
  {
   "cell_type": "markdown",
   "id": "bc080b82",
   "metadata": {},
   "source": [
    "##### Test"
   ]
  },
  {
   "cell_type": "code",
   "execution_count": 67,
   "id": "7c8c380f",
   "metadata": {},
   "outputs": [],
   "source": [
    "master_file_path = '/Users/orukotanoluwatobiloba/Downloads/Udacity/WeRateDogs/twitter_archive_master.csv'"
   ]
  },
  {
   "cell_type": "code",
   "execution_count": 68,
   "id": "b5078ac8",
   "metadata": {},
   "outputs": [
    {
     "name": "stdout",
     "output_type": "stream",
     "text": [
      "twitter_archive_master.csv was succesfully saved\n"
     ]
    }
   ],
   "source": [
    "if os.path.exists(master_file_path):\n",
    "    print('%s was succesfully saved'%master_file_path.split('/')[-1])"
   ]
  },
  {
   "cell_type": "markdown",
   "id": "889e12f8",
   "metadata": {},
   "source": [
    "### Data Analysis\n",
    "\n",
    "The data analysis will be carried out on the tweets_only_df dataframe since it contains strictly tweets. \n",
    "\n",
    "We would also need to add the retweet_count and favorite_count column since they would be needed to answer some question"
   ]
  },
  {
   "cell_type": "code",
   "execution_count": 75,
   "id": "30db899c",
   "metadata": {},
   "outputs": [],
   "source": [
    "tweets_only_df = pd.merge(tweets_only_df, tweets_data_clean, how='left', on='tweet_id')"
   ]
  },
  {
   "cell_type": "code",
   "execution_count": 76,
   "id": "0e4ab850",
   "metadata": {},
   "outputs": [
    {
     "data": {
      "text/plain": [
       "Index(['tweet_id', 'timestamp', 'source', 'text', 'expanded_urls',\n",
       "       'rating_numerator', 'rating_denominator', 'name', 'dog_class',\n",
       "       'favorite_count', 'retweet_count'],\n",
       "      dtype='object')"
      ]
     },
     "execution_count": 76,
     "metadata": {},
     "output_type": "execute_result"
    }
   ],
   "source": [
    "tweets_only_df.columns"
   ]
  },
  {
   "cell_type": "markdown",
   "id": "1d94f2ba",
   "metadata": {},
   "source": [
    "##### Questions for analysis \n",
    "1. What dog class is the most popular\n",
    "2. What name is the most common dog name in our data\n",
    "3. What is the average retweet_count and favorite per dog class\n",
    "4. What is the distribution of the favorite_count for WeRateDogs tweets\n",
    "5. What is the distribution of the favorite_count for WeRateDogs tweets\n",
    "6. Which dogs had the highest retweet and favorite counts\n"
   ]
  },
  {
   "cell_type": "markdown",
   "id": "63818043",
   "metadata": {},
   "source": [
    "##### 1. Most popular dog class"
   ]
  },
  {
   "cell_type": "code",
   "execution_count": 77,
   "id": "9c5d932e",
   "metadata": {},
   "outputs": [
    {
     "data": {
      "text/plain": [
       "pupper      201\n",
       "doggo        62\n",
       "puppo        22\n",
       "multiple     10\n",
       "floofer       7\n",
       "Name: dog_class, dtype: int64"
      ]
     },
     "execution_count": 77,
     "metadata": {},
     "output_type": "execute_result"
    }
   ],
   "source": [
    "dog_class_count = tweets_only_df.dog_class.value_counts()\n",
    "dog_class_count"
   ]
  },
  {
   "cell_type": "code",
   "execution_count": 78,
   "id": "d71c435c",
   "metadata": {},
   "outputs": [
    {
     "data": {
      "text/plain": [
       "Text(0, 0.5, 'Frequency')"
      ]
     },
     "execution_count": 78,
     "metadata": {},
     "output_type": "execute_result"
    },
    {
     "data": {
      "image/png": "[encoded data removed]",
      "text/plain": [
       "<Figure size 720x432 with 1 Axes>"
      ]
     },
     "metadata": {},
     "output_type": "display_data"
    }
   ],
   "source": [
    "dog_class_count.plot.bar(figsize=(10,6))\n",
    "plt.title('Bar Chart Showing Frequency of Each Dog\\'s Class')\n",
    "plt.xlabel('Dog Class')\n",
    "plt.ylabel('Frequency')"
   ]
  },
  {
   "cell_type": "markdown",
   "id": "bdb4ccd7",
   "metadata": {},
   "source": [
    "##### 2. Most popular dog name "
   ]
  },
  {
   "cell_type": "code",
   "execution_count": 79,
   "id": "f1a9fffc",
   "metadata": {},
   "outputs": [
    {
     "data": {
      "text/plain": [
       "909"
      ]
     },
     "execution_count": 79,
     "metadata": {},
     "output_type": "execute_result"
    }
   ],
   "source": [
    "tweets_only_df.name.nunique()"
   ]
  },
  {
   "cell_type": "code",
   "execution_count": 80,
   "id": "74df1385",
   "metadata": {},
   "outputs": [
    {
     "data": {
      "text/plain": [
       "Cooper     10\n",
       "Oliver     10\n",
       "Charlie    10\n",
       "Tucker      9\n",
       "Penny       9\n",
       "Lucy        9\n",
       "Sadie       8\n",
       "Winston     8\n",
       "Daisy       7\n",
       "Toby        7\n",
       "Name: name, dtype: int64"
      ]
     },
     "execution_count": 80,
     "metadata": {},
     "output_type": "execute_result"
    }
   ],
   "source": [
    "dog_name_count = tweets_only_df.name.value_counts().sort_values(ascending=False).head(10)\n",
    "dog_name_count"
   ]
  },
  {
   "cell_type": "code",
   "execution_count": 81,
   "id": "7ffeafe3",
   "metadata": {},
   "outputs": [
    {
     "data": {
      "text/plain": [
       "Text(0, 0.5, 'Frequency')"
      ]
     },
     "execution_count": 81,
     "metadata": {},
     "output_type": "execute_result"
    },
    {
     "data": {
      "image/png": "[encoded data removed]",
      "text/plain": [
       "<Figure size 720x432 with 1 Axes>"
      ]
     },
     "metadata": {},
     "output_type": "display_data"
    }
   ],
   "source": [
    "dog_name_count.plot.bar(figsize=(10,6))\n",
    "plt.title('Bar Chart Showing Frequency of Top 10 Dog Names')\n",
    "plt.xlabel('Dog Name')\n",
    "plt.ylabel('Frequency')"
   ]
  },
  {
   "cell_type": "markdown",
   "id": "18e38449",
   "metadata": {},
   "source": [
    "#### 3. Average retweet"
   ]
  },
  {
   "cell_type": "code",
   "execution_count": 82,
   "id": "d9f8bd2e",
   "metadata": {},
   "outputs": [
    {
     "name": "stderr",
     "output_type": "stream",
     "text": [
      "/var/folders/67/z7st7hwd1jnbqqwxk1d73wqc0000gn/T/ipykernel_13627/1942013672.py:1: FutureWarning: Indexing with multiple keys (implicitly converted to a tuple of keys) will be deprecated, use a list instead.\n",
      "  average_retweet_favorite_count = tweets_only_df.groupby('dog_class')['favorite_count','retweet_count'].mean().sort_values('retweet_count',ascending=False)\n"
     ]
    },
    {
     "data": {
      "text/html": [
       "<div>\n",
       "<style scoped>\n",
       "    .dataframe tbody tr th:only-of-type {\n",
       "        vertical-align: middle;\n",
       "    }\n",
       "\n",
       "    .dataframe tbody tr th {\n",
       "        vertical-align: top;\n",
       "    }\n",
       "\n",
       "    .dataframe thead th {\n",
       "        text-align: right;\n",
       "    }\n",
       "</style>\n",
       "<table border=\"1\" class=\"dataframe\">\n",
       "  <thead>\n",
       "    <tr style=\"text-align: right;\">\n",
       "      <th></th>\n",
       "      <th>favorite_count</th>\n",
       "      <th>retweet_count</th>\n",
       "    </tr>\n",
       "    <tr>\n",
       "      <th>dog_class</th>\n",
       "      <th></th>\n",
       "      <th></th>\n",
       "    </tr>\n",
       "  </thead>\n",
       "  <tbody>\n",
       "    <tr>\n",
       "      <th>doggo</th>\n",
       "      <td>17600.403226</td>\n",
       "      <td>5971.967742</td>\n",
       "    </tr>\n",
       "    <tr>\n",
       "      <th>puppo</th>\n",
       "      <td>19574.590909</td>\n",
       "      <td>5325.090909</td>\n",
       "    </tr>\n",
       "    <tr>\n",
       "      <th>multiple</th>\n",
       "      <td>15847.600000</td>\n",
       "      <td>4873.300000</td>\n",
       "    </tr>\n",
       "    <tr>\n",
       "      <th>floofer</th>\n",
       "      <td>11222.857143</td>\n",
       "      <td>3984.714286</td>\n",
       "    </tr>\n",
       "    <tr>\n",
       "      <th>pupper</th>\n",
       "      <td>6250.303483</td>\n",
       "      <td>1924.721393</td>\n",
       "    </tr>\n",
       "  </tbody>\n",
       "</table>\n",
       "</div>"
      ],
      "text/plain": [
       "           favorite_count  retweet_count\n",
       "dog_class                               \n",
       "doggo        17600.403226    5971.967742\n",
       "puppo        19574.590909    5325.090909\n",
       "multiple     15847.600000    4873.300000\n",
       "floofer      11222.857143    3984.714286\n",
       "pupper        6250.303483    1924.721393"
      ]
     },
     "execution_count": 82,
     "metadata": {},
     "output_type": "execute_result"
    }
   ],
   "source": [
    "average_retweet_favorite_count = tweets_only_df.groupby('dog_class')['favorite_count','retweet_count'].mean().sort_values('retweet_count',ascending=False)\n",
    "average_retweet_favorite_count"
   ]
  },
  {
   "cell_type": "code",
   "execution_count": 83,
   "id": "03d7364f",
   "metadata": {},
   "outputs": [
    {
     "data": {
      "text/plain": [
       "Text(0, 0.5, 'Average count')"
      ]
     },
     "execution_count": 83,
     "metadata": {},
     "output_type": "execute_result"
    },
    {
     "data": {
      "image/png": "[encoded data removed]",
      "text/plain": [
       "<Figure size 432x288 with 1 Axes>"
      ]
     },
     "metadata": {},
     "output_type": "display_data"
    }
   ],
   "source": [
    "average_retweet_favorite_count.plot.bar()\n",
    "plt.title('Bar Chart Showing average retweet_count and favorite_count for each dog class')\n",
    "plt.xlabel('Dog Name')\n",
    "plt.ylabel('Average count')"
   ]
  },
  {
   "cell_type": "markdown",
   "id": "34c32a9a",
   "metadata": {},
   "source": [
    "##### 4. Distribution of favorite_count"
   ]
  },
  {
   "cell_type": "code",
   "execution_count": 84,
   "id": "3a114b39",
   "metadata": {},
   "outputs": [
    {
     "data": {
      "text/plain": [
       "Text(0, 0.5, 'Frequency')"
      ]
     },
     "execution_count": 84,
     "metadata": {},
     "output_type": "execute_result"
    },
    {
     "data": {
      "image/png": "[encoded data removed]",
      "text/plain": [
       "<Figure size 1080x576 with 1 Axes>"
      ]
     },
     "metadata": {},
     "output_type": "display_data"
    }
   ],
   "source": [
    "plt.figure(figsize=(15,8))\n",
    "sns.histplot(data=tweets_only_df, x='favorite_count')\n",
    "plt.title('Histogram Showing distribution of favorite_count')\n",
    "plt.xlabel('favorite_count')\n",
    "plt.ylabel('Frequency')"
   ]
  },
  {
   "cell_type": "markdown",
   "id": "652be373",
   "metadata": {},
   "source": [
    "#### 5. Distribution of retweet_count"
   ]
  },
  {
   "cell_type": "code",
   "execution_count": 85,
   "id": "71e3f628",
   "metadata": {},
   "outputs": [
    {
     "data": {
      "text/plain": [
       "Text(0, 0.5, 'Frequency')"
      ]
     },
     "execution_count": 85,
     "metadata": {},
     "output_type": "execute_result"
    },
    {
     "data": {
      "image/png": "[encoded data removed]",
      "text/plain": [
       "<Figure size 1080x576 with 1 Axes>"
      ]
     },
     "metadata": {},
     "output_type": "display_data"
    }
   ],
   "source": [
    "plt.figure(figsize=(15,8))\n",
    "sns.histplot(data=tweets_only_df, x='retweet_count')\n",
    "plt.title('Histogram Showing distribution of retweet_count')\n",
    "plt.xlabel('retweet_count')\n",
    "plt.ylabel('Frequency')"
   ]
  },
  {
   "cell_type": "markdown",
   "id": "662650f7",
   "metadata": {},
   "source": [
    "#### 6. Dogs with the highest retweet and favorite counts"
   ]
  },
  {
   "cell_type": "markdown",
   "id": "1282b973",
   "metadata": {},
   "source": [
    "``retweet_count``"
   ]
  },
  {
   "cell_type": "code",
   "execution_count": 86,
   "id": "b6f2d193",
   "metadata": {},
   "outputs": [],
   "source": [
    "outlier_retweet_dogs = tweets_only_df.query('retweet_count >= 10000')"
   ]
  },
  {
   "cell_type": "code",
   "execution_count": 87,
   "id": "e1360877",
   "metadata": {},
   "outputs": [
    {
     "data": {
      "text/plain": [
       "doggo       7\n",
       "pupper      5\n",
       "multiple    2\n",
       "puppo       2\n",
       "floofer     1\n",
       "Name: dog_class, dtype: int64"
      ]
     },
     "execution_count": 87,
     "metadata": {},
     "output_type": "execute_result"
    }
   ],
   "source": [
    "outlier_retweet_dogs_counts = outlier_retweet_dogs.dog_class.value_counts()\n",
    "outlier_retweet_dogs.dog_class.value_counts()"
   ]
  },
  {
   "cell_type": "code",
   "execution_count": 88,
   "id": "ee89bb8c",
   "metadata": {},
   "outputs": [
    {
     "data": {
      "text/plain": [
       "Text(0, 0.5, 'Frequency')"
      ]
     },
     "execution_count": 88,
     "metadata": {},
     "output_type": "execute_result"
    },
    {
     "data": {
      "image/png": "[encoded data removed]",
      "text/plain": [
       "<Figure size 720x576 with 1 Axes>"
      ]
     },
     "metadata": {},
     "output_type": "display_data"
    }
   ],
   "source": [
    "outlier_retweet_dogs_counts.plot.bar(figsize=(10,8))\n",
    "plt.title('Bar chart showing frequency of dog class with high (>=10000) retweet_count')\n",
    "plt.xlabel('Dog class')\n",
    "plt.ylabel('Frequency')"
   ]
  },
  {
   "cell_type": "markdown",
   "id": "2bc0b666",
   "metadata": {},
   "source": [
    "``favorite_count``"
   ]
  },
  {
   "cell_type": "code",
   "execution_count": 89,
   "id": "f85c0e53",
   "metadata": {},
   "outputs": [],
   "source": [
    "outlier_favorite_dogs = tweets_only_df.query('favorite_count >= 20000')"
   ]
  },
  {
   "cell_type": "code",
   "execution_count": 90,
   "id": "9328ca6a",
   "metadata": {},
   "outputs": [
    {
     "data": {
      "text/plain": [
       "doggo       12\n",
       "pupper      12\n",
       "puppo        5\n",
       "multiple     2\n",
       "floofer      1\n",
       "Name: dog_class, dtype: int64"
      ]
     },
     "execution_count": 90,
     "metadata": {},
     "output_type": "execute_result"
    }
   ],
   "source": [
    "outlier_favorite_dogs_counts = outlier_favorite_dogs.dog_class.value_counts()\n",
    "outlier_favorite_dogs.dog_class.value_counts()"
   ]
  },
  {
   "cell_type": "code",
   "execution_count": 91,
   "id": "d71a1ff0",
   "metadata": {},
   "outputs": [
    {
     "data": {
      "text/plain": [
       "Text(0, 0.5, 'Frequency')"
      ]
     },
     "execution_count": 91,
     "metadata": {},
     "output_type": "execute_result"
    },
    {
     "data": {
      "image/png": "[encoded data removed]",
      "text/plain": [
       "<Figure size 720x576 with 1 Axes>"
      ]
     },
     "metadata": {},
     "output_type": "display_data"
    }
   ],
   "source": [
    "outlier_favorite_dogs_counts.plot.bar(figsize=(10,8))\n",
    "plt.title('Bar chart showing frequency of dog class with high (>=20000) favorite_count')\n",
    "plt.xlabel('Dog class')\n",
    "plt.ylabel('Frequency')"
   ]
  },
  {
   "cell_type": "markdown",
   "id": "7fb2af82",
   "metadata": {},
   "source": [
    "#### Insights gotten"
   ]
  },
  {
   "cell_type": "markdown",
   "id": "a3e11c77",
   "metadata": {},
   "source": [
    "- The Pupper class is the most popular dog class in the dataset.\n",
    "- Oliver, Cooper, and Charlie are the top three most popular dog names in out dataset\n",
    "- Doggo dogs seem to be the most loved class of dogs. They rank first in retweet_count and second in the favorite_count.\n",
    "- The distribution of favorite_count is highly skewed. The chart shows that a few number of dogs had a favorite_count above 20000.\n",
    "- The distribution of retweet_count is highly skewed. The chart shows that a few number of dogs had a retweet_count above 10000.\n",
    "- Doggo dogs occupy the largest portion of dogs with retweet_counts greater than 10000.\n",
    "- Doggo and pupper dogs occupy the largest portion of dogs with favorite_counts greater than 20000."
   ]
  },
  {
   "cell_type": "code",
   "execution_count": null,
   "id": "a13aa624",
   "metadata": {},
   "outputs": [],
   "source": []
  }
 ],
 "metadata": {
  "kernelspec": {
   "display_name": "Python 3.10.0 64-bit",
   "language": "python",
   "name": "python3"
  },
  "language_info": {
   "codemirror_mode": {
    "name": "ipython",
    "version": 3
   },
   "file_extension": ".py",
   "mimetype": "text/x-python",
   "name": "python",
   "nbconvert_exporter": "python",
   "pygments_lexer": "ipython3",
   "version": "3.10.0"
  },
  "vscode": {
   "interpreter": {
    "hash": "aee8b7b246df8f9039afb4144a1f6fd8d2ca17a180786b69acc140d282b71a49"
   }
  }
 },
 "nbformat": 4,
 "nbformat_minor": 5
}
